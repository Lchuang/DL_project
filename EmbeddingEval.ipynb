{
  "nbformat": 4,
  "nbformat_minor": 0,
  "metadata": {
    "colab": {
      "name": "EmbeddingEval.ipynb",
      "provenance": []
    },
    "kernelspec": {
      "name": "python3",
      "display_name": "Python 3"
    },
    "language_info": {
      "name": "python"
    }
  },
  "cells": [
    {
      "cell_type": "code",
      "metadata": {
        "id": "s9_pMAu8BFIR",
        "colab": {
          "base_uri": "https://localhost:8080/"
        },
        "outputId": "05d4e0d7-e675-40b4-fc1f-0a43579f260a"
      },
      "source": [
        "!wget -O input.pickle https://www.dropbox.com/s/qfuw3i22qvqqamz/pred_embeddings_test.pickle?dl=0"
      ],
      "execution_count": null,
      "outputs": [
        {
          "output_type": "stream",
          "name": "stdout",
          "text": [
            "--2021-12-01 13:19:57--  https://www.dropbox.com/s/qfuw3i22qvqqamz/pred_embeddings_test.pickle?dl=0\n",
            "Resolving www.dropbox.com (www.dropbox.com)... 162.125.3.18, 2620:100:6017:18::a27d:212\n",
            "Connecting to www.dropbox.com (www.dropbox.com)|162.125.3.18|:443... connected.\n",
            "HTTP request sent, awaiting response... 301 Moved Permanently\n",
            "Location: /s/raw/qfuw3i22qvqqamz/pred_embeddings_test.pickle [following]\n",
            "--2021-12-01 13:19:57--  https://www.dropbox.com/s/raw/qfuw3i22qvqqamz/pred_embeddings_test.pickle\n",
            "Reusing existing connection to www.dropbox.com:443.\n",
            "HTTP request sent, awaiting response... 302 Found\n",
            "Location: https://uce4fdc3315f6c947f0aec323563.dl.dropboxusercontent.com/cd/0/inline/BbCuBSkcE0PVz4AxHRApRabm62-yjQXRYQgMYazcFFwvyyPd9Mak-FyPR0L5n1mfEp9Ow_CjiFJZ17cIVz1x3zm0BD7UxUpaxScENfH8qOrAi0dSVORB4iC4w18U2p6IcubMQwldRPMRfhZpw1Z1F3L9/file# [following]\n",
            "--2021-12-01 13:19:57--  https://uce4fdc3315f6c947f0aec323563.dl.dropboxusercontent.com/cd/0/inline/BbCuBSkcE0PVz4AxHRApRabm62-yjQXRYQgMYazcFFwvyyPd9Mak-FyPR0L5n1mfEp9Ow_CjiFJZ17cIVz1x3zm0BD7UxUpaxScENfH8qOrAi0dSVORB4iC4w18U2p6IcubMQwldRPMRfhZpw1Z1F3L9/file\n",
            "Resolving uce4fdc3315f6c947f0aec323563.dl.dropboxusercontent.com (uce4fdc3315f6c947f0aec323563.dl.dropboxusercontent.com)... 162.125.2.15, 2620:100:6017:15::a27d:20f\n",
            "Connecting to uce4fdc3315f6c947f0aec323563.dl.dropboxusercontent.com (uce4fdc3315f6c947f0aec323563.dl.dropboxusercontent.com)|162.125.2.15|:443... connected.\n",
            "HTTP request sent, awaiting response... 302 Found\n",
            "Location: /cd/0/inline2/BbCZG_28yVTfKwj7-QxvM9NJ1MaTlbi9p2l7DaGlita7NmlHl5jHoC7g41JPP4GKomrmJ2co-d4mhRwmBhM1tcofBIoqMdgrt_sXtIW53o9c3dLpKhimnPYJfRc8Dujc9nGtZiUW2AB2RsHZRWGz54HyPeH9LH_Pph9A7D20pafoTH3Cgg2L0tOeHJBdfEo3LKMMuDjKSqbAY8VyBcsvR8J7GT7iDXmTLg4cyWrmDk3nhlxpyx-5xgfGHCPCH6o-sHAW-9jwn_pTnr-u_1ExrNtLRBQ0UOBt_s8fJJuGZhhbhlf7wFj1sa5n3gp2e6QKxtyuykRZo-0XgCvO8XuyWI_YfXf8LfFRKRzwZ-XibgmqAw8Z4c41cS-s8CQ7yTASZLQ/file [following]\n",
            "--2021-12-01 13:19:58--  https://uce4fdc3315f6c947f0aec323563.dl.dropboxusercontent.com/cd/0/inline2/BbCZG_28yVTfKwj7-QxvM9NJ1MaTlbi9p2l7DaGlita7NmlHl5jHoC7g41JPP4GKomrmJ2co-d4mhRwmBhM1tcofBIoqMdgrt_sXtIW53o9c3dLpKhimnPYJfRc8Dujc9nGtZiUW2AB2RsHZRWGz54HyPeH9LH_Pph9A7D20pafoTH3Cgg2L0tOeHJBdfEo3LKMMuDjKSqbAY8VyBcsvR8J7GT7iDXmTLg4cyWrmDk3nhlxpyx-5xgfGHCPCH6o-sHAW-9jwn_pTnr-u_1ExrNtLRBQ0UOBt_s8fJJuGZhhbhlf7wFj1sa5n3gp2e6QKxtyuykRZo-0XgCvO8XuyWI_YfXf8LfFRKRzwZ-XibgmqAw8Z4c41cS-s8CQ7yTASZLQ/file\n",
            "Reusing existing connection to uce4fdc3315f6c947f0aec323563.dl.dropboxusercontent.com:443.\n",
            "HTTP request sent, awaiting response... 200 OK\n",
            "Length: 417548955 (398M) [application/octet-stream]\n",
            "Saving to: ‘input.pickle’\n",
            "\n",
            "input.pickle        100%[===================>] 398.21M  86.3MB/s    in 4.7s    \n",
            "\n",
            "2021-12-01 13:20:03 (83.9 MB/s) - ‘input.pickle’ saved [417548955/417548955]\n",
            "\n"
          ]
        }
      ]
    },
    {
      "cell_type": "code",
      "metadata": {
        "id": "xAZTx-fFIesh",
        "colab": {
          "base_uri": "https://localhost:8080/"
        },
        "outputId": "10183c54-a259-4132-c1bc-b9320d7ddab2"
      },
      "source": [
        "!pip install --upgrade pandas"
      ],
      "execution_count": null,
      "outputs": [
        {
          "output_type": "stream",
          "name": "stdout",
          "text": [
            "Requirement already satisfied: pandas in /usr/local/lib/python3.7/dist-packages (1.3.4)\n",
            "Requirement already satisfied: pytz>=2017.3 in /usr/local/lib/python3.7/dist-packages (from pandas) (2018.9)\n",
            "Requirement already satisfied: python-dateutil>=2.7.3 in /usr/local/lib/python3.7/dist-packages (from pandas) (2.8.2)\n",
            "Requirement already satisfied: numpy>=1.17.3 in /usr/local/lib/python3.7/dist-packages (from pandas) (1.19.5)\n",
            "Requirement already satisfied: six>=1.5 in /usr/local/lib/python3.7/dist-packages (from python-dateutil>=2.7.3->pandas) (1.15.0)\n"
          ]
        }
      ]
    },
    {
      "cell_type": "code",
      "metadata": {
        "id": "5LEf4UEa1aAm"
      },
      "source": [
        "import pickle\n",
        "import pandas as pd\n",
        "from sklearn import metrics\n",
        "from sklearn.metrics import pairwise_distances\n",
        "import numpy as np"
      ],
      "execution_count": null,
      "outputs": []
    },
    {
      "cell_type": "code",
      "metadata": {
        "colab": {
          "base_uri": "https://localhost:8080/"
        },
        "id": "Pk3-YUV71xGQ",
        "outputId": "e7820c0d-b932-4f4c-f232-012a522081ee"
      },
      "source": [
        "file = open(\"input.pickle\",'rb')\n",
        "df = pickle.load(file)\n",
        "file.close()\n",
        "\n",
        "print(df)"
      ],
      "execution_count": null,
      "outputs": [
        {
          "output_type": "stream",
          "name": "stdout",
          "text": [
            "       event_id  ...                                    pred_embeddings\n",
            "0       7223887  ...  [2.0686686, -1.1539124, -2.2467422, 5.966675, ...\n",
            "1       7223887  ...  [2.8171532, -2.6339478, -1.8851807, 2.0183, 1....\n",
            "2       7223887  ...  [6.607875, -2.8734946, -4.399386, -0.83661246,...\n",
            "3       7223887  ...  [-2.055933, -4.756624, -0.6864128, -1.846367, ...\n",
            "4       7223887  ...  [-3.9957285, -0.5226611, -0.22596022, 2.629873...\n",
            "...         ...  ...                                                ...\n",
            "27978   2255160  ...  [2.2195454, -6.2205462, -4.111495, 4.3773494, ...\n",
            "27979   2255160  ...  [-0.96825033, -0.72258747, -3.179938, 0.212696...\n",
            "27980   2255160  ...  [-1.3311795, -3.6290622, -5.6723304, 0.9451575...\n",
            "27981   2255160  ...  [0.94390595, -2.2124505, -2.8526225, -3.728042...\n",
            "27982   2255160  ...  [-0.13685893, 0.23899402, -1.1385459, -1.74094...\n",
            "\n",
            "[27983 rows x 8 columns]\n"
          ]
        }
      ]
    },
    {
      "cell_type": "code",
      "metadata": {
        "colab": {
          "base_uri": "https://localhost:8080/"
        },
        "id": "u58BlTfgM0TD",
        "outputId": "c33d1b0f-faf8-4ee6-f1c9-64eea88f4547"
      },
      "source": [
        "labels = np.array(df['event_id'].tolist())\n",
        "X = np.array(df['pred_embeddings'].tolist())\n",
        "\n",
        "print(labels.shape)\n",
        "print(X.shape)"
      ],
      "execution_count": null,
      "outputs": [
        {
          "output_type": "stream",
          "name": "stdout",
          "text": [
            "(27983,)\n",
            "(27983, 100)\n"
          ]
        }
      ]
    },
    {
      "cell_type": "code",
      "metadata": {
        "colab": {
          "base_uri": "https://localhost:8080/"
        },
        "id": "Wn7RzeZWiNY1",
        "outputId": "36d90bb3-a96a-4386-ecab-00d056f55c57"
      },
      "source": [
        "print(metrics.silhouette_score(X, labels))\n",
        "print(metrics.calinski_harabasz_score(X, labels))\n",
        "print(metrics.davies_bouldin_score(X, labels))"
      ],
      "execution_count": null,
      "outputs": [
        {
          "output_type": "stream",
          "name": "stdout",
          "text": [
            "-0.02506965\n",
            "1.9424059909352611\n",
            "14.327935263038192\n"
          ]
        }
      ]
    }
  ]
}