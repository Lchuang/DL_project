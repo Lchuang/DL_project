{
 "cells": [
  {
   "cell_type": "code",
   "execution_count": 34,
   "id": "fcbe3738",
   "metadata": {
    "colab": {
     "base_uri": "https://localhost:8080/"
    },
    "id": "fcbe3738",
    "outputId": "153d8f20-7aa0-4a5b-a3a4-50d1ea054449"
   },
   "outputs": [],
   "source": [
    "#!pip install pandas==1.3.1\n",
    "import pandas as pd\n",
    "import numpy as np\n",
    "from sklearn.model_selection import train_test_split\n",
    "import logging, os\n",
    "logging.disable(logging.WARNING)\n",
    "os.environ[\"TF_CPP_MIN_LOG_LEVEL\"] = \"3\"\n",
    "import tensorflow as tf\n",
    "from tensorflow.keras import Sequential, Model\n",
    "from tensorflow.keras.layers import Dense, Dropout, BatchNormalization, Activation, Input \n",
    "from tensorflow.keras.layers import Conv1D, Flatten, MaxPooling1D, UpSampling1D, Reshape, Concatenate, Multiply, Lambda\n",
    "from tensorflow.keras.backend import int_shape\n",
    "from keras import backend as bken\n",
    "from tensorflow.keras import optimizers\n",
    "from tensorflow.keras.utils import plot_model\n",
    "from keras.callbacks import LearningRateScheduler\n",
    "import keras\n",
    "from keras import layers\n",
    "from tensorflow.keras.backend import int_shape\n",
    "import os\n",
    "from scipy.special import comb\n",
    "import lr_scheduler"
   ]
  },
  {
   "cell_type": "code",
   "execution_count": 2,
   "id": "W8sllkwgSuGl",
   "metadata": {
    "id": "W8sllkwgSuGl"
   },
   "outputs": [],
   "source": [
    "#!wget -o pd_data_dp_subset.p https://ucf318623584668d8740ede597a1.dl.dropboxusercontent.com/cd/0/get/BaPWpCQuhyIKlS1VCIa39IJm_f8YpUzm7Ix5c4H57oShk37iLp4BMZ07rThcDnUIyzk_r857u-Vj76bdZYKWkpEOwMHpW5W1-snEr4WDjbUC_XE0mEJvOnlAXTP0YA1vMPiBhmlIEkSgCQkpaa0-rHWl/file# --show-progress\n",
    "#!mv file pd_data_dp_subset.p"
   ]
  },
  {
   "cell_type": "code",
   "execution_count": 3,
   "id": "Gy8PojPgUvMr",
   "metadata": {
    "colab": {
     "base_uri": "https://localhost:8080/"
    },
    "id": "Gy8PojPgUvMr",
    "outputId": "7e674271-2760-4def-8103-89f28b5aba11"
   },
   "outputs": [],
   "source": [
    "#!mkdir checkpoints & mkdir checkpoints/model_01\n",
    "#!unzip 0100.ckpt.zip -d checkpoints/model_01/"
   ]
  },
  {
   "cell_type": "markdown",
   "id": "16c5085e",
   "metadata": {
    "id": "16c5085e"
   },
   "source": [
    "### Read dataset"
   ]
  },
  {
   "cell_type": "code",
   "execution_count": 4,
   "id": "cb9704b4",
   "metadata": {
    "id": "cb9704b4"
   },
   "outputs": [],
   "source": [
    "df = pd.read_pickle('pd_data_dp_subset.p')\n",
    "\n",
    "# ---- recast event_id to int\n",
    "df[\"event_id\"] = df[\"event_id\"].apply(lambda x:int(x))"
   ]
  },
  {
   "cell_type": "markdown",
   "id": "5138ba64",
   "metadata": {
    "id": "5138ba64"
   },
   "source": [
    "### Header\n",
    "    1. P_wave_processed: pre-processed p-wave recordings, each of them has dim = (600, 3)\n",
    "    2. P_wave_amplitudes: max(amplitude) of raw p-wave recordings, each of them has dim = (3,)\n",
    "    3. azimuth: the azimuth of earthquake with respect to station\n",
    "    4. station_name: name of the station\n",
    "    5. station_network: netowrk code of the station\n",
    "    6. event_id: event id\n",
    "    7. depth: event depth\n",
    "    8. station_lat: station coordinate lat.\n",
    "    9. station_long: station coordinate long.\n",
    "    10. event_lat: event coordinate lat\n",
    "    11. event_long: event coordinate long\n",
    "    12. magnitude: event magnitude\n",
    "    13. P: phase arrival time at station\n",
    "    14. delta: event station distance in degree (1 degree ~= 111 km)"
   ]
  },
  {
   "cell_type": "code",
   "execution_count": 5,
   "id": "09500984",
   "metadata": {
    "colab": {
     "base_uri": "https://localhost:8080/",
     "height": 215
    },
    "id": "09500984",
    "outputId": "b537c1ac-39ea-42c9-aa70-fb2894ddaf94"
   },
   "outputs": [
    {
     "data": {
      "text/html": [
       "<div>\n",
       "<style scoped>\n",
       "    .dataframe tbody tr th:only-of-type {\n",
       "        vertical-align: middle;\n",
       "    }\n",
       "\n",
       "    .dataframe tbody tr th {\n",
       "        vertical-align: top;\n",
       "    }\n",
       "\n",
       "    .dataframe thead th {\n",
       "        text-align: right;\n",
       "    }\n",
       "</style>\n",
       "<table border=\"1\" class=\"dataframe\">\n",
       "  <thead>\n",
       "    <tr style=\"text-align: right;\">\n",
       "      <th></th>\n",
       "      <th>station_name</th>\n",
       "      <th>station_network</th>\n",
       "      <th>station_lat</th>\n",
       "      <th>station_long</th>\n",
       "      <th>event_id</th>\n",
       "      <th>event_time</th>\n",
       "      <th>event_lat</th>\n",
       "      <th>event_long</th>\n",
       "      <th>depth</th>\n",
       "      <th>P_wave_processed</th>\n",
       "      <th>azimuth</th>\n",
       "      <th>delta</th>\n",
       "      <th>phase</th>\n",
       "      <th>P</th>\n",
       "      <th>magnitude</th>\n",
       "    </tr>\n",
       "  </thead>\n",
       "  <tbody>\n",
       "    <tr>\n",
       "      <th>0</th>\n",
       "      <td>AAK</td>\n",
       "      <td>II</td>\n",
       "      <td>42.637500</td>\n",
       "      <td>74.494200</td>\n",
       "      <td>1725583</td>\n",
       "      <td>9.470968e+08</td>\n",
       "      <td>-9.131</td>\n",
       "      <td>109.579</td>\n",
       "      <td>35.0</td>\n",
       "      <td>[[4.5132976810436585e-17, 0.0, -5.126423482750...</td>\n",
       "      <td>330.887</td>\n",
       "      <td>60.666</td>\n",
       "      <td>P</td>\n",
       "      <td>9.470974e+08</td>\n",
       "      <td>5.6</td>\n",
       "    </tr>\n",
       "    <tr>\n",
       "      <th>1</th>\n",
       "      <td>AAK</td>\n",
       "      <td>KN</td>\n",
       "      <td>42.633301</td>\n",
       "      <td>74.494400</td>\n",
       "      <td>1725583</td>\n",
       "      <td>9.470968e+08</td>\n",
       "      <td>-9.131</td>\n",
       "      <td>109.579</td>\n",
       "      <td>35.0</td>\n",
       "      <td>[[-0.004384802184109918, 0.002776395732707534,...</td>\n",
       "      <td>330.887</td>\n",
       "      <td>60.666</td>\n",
       "      <td>P</td>\n",
       "      <td>9.470974e+08</td>\n",
       "      <td>5.6</td>\n",
       "    </tr>\n",
       "    <tr>\n",
       "      <th>2</th>\n",
       "      <td>AML</td>\n",
       "      <td>KN</td>\n",
       "      <td>42.131100</td>\n",
       "      <td>73.694099</td>\n",
       "      <td>1725583</td>\n",
       "      <td>9.470968e+08</td>\n",
       "      <td>-9.131</td>\n",
       "      <td>109.579</td>\n",
       "      <td>35.0</td>\n",
       "      <td>[[-0.003072967942240945, 0.002691759337183582,...</td>\n",
       "      <td>329.993</td>\n",
       "      <td>60.675</td>\n",
       "      <td>P</td>\n",
       "      <td>9.470974e+08</td>\n",
       "      <td>5.6</td>\n",
       "    </tr>\n",
       "  </tbody>\n",
       "</table>\n",
       "</div>"
      ],
      "text/plain": [
       "  station_name station_network  station_lat  station_long  event_id  \\\n",
       "0          AAK              II    42.637500     74.494200   1725583   \n",
       "1          AAK              KN    42.633301     74.494400   1725583   \n",
       "2          AML              KN    42.131100     73.694099   1725583   \n",
       "\n",
       "     event_time  event_lat  event_long  depth  \\\n",
       "0  9.470968e+08     -9.131     109.579   35.0   \n",
       "1  9.470968e+08     -9.131     109.579   35.0   \n",
       "2  9.470968e+08     -9.131     109.579   35.0   \n",
       "\n",
       "                                    P_wave_processed  azimuth   delta phase  \\\n",
       "0  [[4.5132976810436585e-17, 0.0, -5.126423482750...  330.887  60.666     P   \n",
       "1  [[-0.004384802184109918, 0.002776395732707534,...  330.887  60.666     P   \n",
       "2  [[-0.003072967942240945, 0.002691759337183582,...  329.993  60.675     P   \n",
       "\n",
       "              P  magnitude  \n",
       "0  9.470974e+08        5.6  \n",
       "1  9.470974e+08        5.6  \n",
       "2  9.470974e+08        5.6  "
      ]
     },
     "execution_count": 5,
     "metadata": {},
     "output_type": "execute_result"
    }
   ],
   "source": [
    "df.head(3)"
   ]
  },
  {
   "cell_type": "markdown",
   "id": "2ba9d7be",
   "metadata": {
    "id": "2ba9d7be"
   },
   "source": [
    "### Some facts of the dataset"
   ]
  },
  {
   "cell_type": "code",
   "execution_count": 6,
   "id": "7caba169",
   "metadata": {
    "colab": {
     "base_uri": "https://localhost:8080/"
    },
    "id": "7caba169",
    "outputId": "6a6a176e-b5ec-4a10-e4d1-d17e07362481"
   },
   "outputs": [
    {
     "name": "stdout",
     "output_type": "stream",
     "text": [
      "total 145677 entries\n",
      "total 1295 events\n",
      "total ~1574 stations\n",
      "min station-event distance 0.199 degree\n",
      "max station-event distance 90.866 degree\n",
      "median station-event distance 68.233 degree\n"
     ]
    }
   ],
   "source": [
    "total_entries = df.shape[0]\n",
    "print(f\"total {total_entries} entries\")\n",
    "event_number = pd.unique(df.event_id).shape[0]\n",
    "print(f\"total {event_number} events\")\n",
    "station_number = pd.unique(df.station_name).shape[0]\n",
    "print(f\"total ~{station_number} stations\")\n",
    "min_distance = df.delta.min()\n",
    "max_distance = df.delta.max()\n",
    "median_distance = df.delta.median()\n",
    "print(f\"min station-event distance {min_distance:.3f} degree\")\n",
    "print(f\"max station-event distance {max_distance:.3f} degree\")\n",
    "print(f\"median station-event distance {median_distance:.3f} degree\")"
   ]
  },
  {
   "cell_type": "markdown",
   "id": "aec41e2e",
   "metadata": {
    "id": "aec41e2e"
   },
   "source": [
    "### Split train and test set\n",
    "To prevent data leaking from one event to another one, we will split dataset by event"
   ]
  },
  {
   "cell_type": "code",
   "execution_count": 7,
   "id": "051966a5",
   "metadata": {
    "id": "051966a5"
   },
   "outputs": [],
   "source": [
    "# Group by event and aggregate relevant columns\n",
    "df_evt_grouped = df.groupby('event_id').agg(\n",
    "    {'station_name': lambda x:list(x),\n",
    "     'station_network': lambda x:list(x),\n",
    "     'station_lat': lambda x:list(x),\n",
    "     'station_long': lambda x:list(x),\n",
    "     'P_wave_processed': lambda x:np.asarray(list(x))\n",
    "    }).reset_index()\n",
    "df_evt_grouped[\"num_waves\"] = df_evt_grouped[\"P_wave_processed\"]\\\n",
    "                              .apply(lambda x: x.shape[0])\n",
    "\n",
    "# ---- drop events that only has one recording\n",
    "df_evt_grouped = df_evt_grouped[df_evt_grouped.num_waves>=2]"
   ]
  },
  {
   "cell_type": "code",
   "execution_count": 8,
   "id": "085bf425",
   "metadata": {
    "id": "085bf425"
   },
   "outputs": [],
   "source": [
    "# Split train and test sets\n",
    "train_set, test_set, _, _ = train_test_split(df_evt_grouped, \n",
    "                                             df_evt_grouped, \n",
    "                                             test_size=0.2, \n",
    "                                             random_state=42)"
   ]
  },
  {
   "cell_type": "code",
   "execution_count": 9,
   "id": "36a378bb",
   "metadata": {
    "colab": {
     "base_uri": "https://localhost:8080/"
    },
    "id": "36a378bb",
    "outputId": "de81e8d0-5964-406f-a1d0-3efd602fa229"
   },
   "outputs": [
    {
     "name": "stdout",
     "output_type": "stream",
     "text": [
      "Number of train event: 1034\n",
      "Number of train waves: 117692\n",
      "Number of test event: 259\n",
      "Number of test waves: 27983\n"
     ]
    }
   ],
   "source": [
    "num_train_events = train_set.shape[0]\n",
    "num_train_waves = train_set.num_waves.sum()\n",
    "num_test_events = test_set.shape[0]\n",
    "num_test_waves = test_set.num_waves.sum()\n",
    "print(f\"Number of train event: {num_train_events}\")\n",
    "print(f\"Number of train waves: {num_train_waves}\")\n",
    "print(f\"Number of test event: {num_test_events}\")\n",
    "print(f\"Number of test waves: {num_test_waves}\")"
   ]
  },
  {
   "cell_type": "markdown",
   "id": "36c2ffae",
   "metadata": {
    "id": "36c2ffae"
   },
   "source": [
    "### Data for  the Resnet style Autoencoder"
   ]
  },
  {
   "cell_type": "code",
   "execution_count": 10,
   "id": "74f177fc",
   "metadata": {
    "id": "74f177fc"
   },
   "outputs": [],
   "source": [
    "df_train_set_flat = train_set.explode(['P_wave_processed'])"
   ]
  },
  {
   "cell_type": "code",
   "execution_count": 11,
   "id": "57db1d43",
   "metadata": {
    "id": "57db1d43"
   },
   "outputs": [],
   "source": [
    "waves_train = np.asarray((df_train_set_flat.P_wave_processed.to_list()))"
   ]
  },
  {
   "cell_type": "code",
   "execution_count": 12,
   "id": "b383ac30",
   "metadata": {
    "id": "b383ac30"
   },
   "outputs": [],
   "source": [
    "#df_evt_grouped[[\"event_id\",\"P_wave_processed\"]].explode(['P_wave_processed'])"
   ]
  },
  {
   "cell_type": "markdown",
   "id": "861392e6",
   "metadata": {
    "id": "861392e6"
   },
   "source": [
    "### Model 1. 1D-Resnet style autoencoder"
   ]
  },
  {
   "cell_type": "code",
   "execution_count": 13,
   "id": "c3e7713e",
   "metadata": {
    "id": "c3e7713e"
   },
   "outputs": [],
   "source": [
    "def identity_block(x, num_filters=64, kernel_size=5):\n",
    "    \n",
    "    # copy tensor to variable called x_skip\n",
    "    x_skip = x\n",
    "    \n",
    "    # Layer 1\n",
    "    x = tf.keras.layers.Conv1D(num_filters, kernel_size, padding = 'same')(x)\n",
    "    x = tf.keras.layers.BatchNormalization(axis=-1)(x)\n",
    "    x = tf.keras.layers.Activation('relu')(x)\n",
    "    \n",
    "    # Layer 2\n",
    "    x = tf.keras.layers.Conv1D(num_filters, kernel_size, padding = 'same')(x)\n",
    "    x = tf.keras.layers.BatchNormalization(axis=-1)(x)\n",
    "    \n",
    "    # Add Residue\n",
    "    x = tf.keras.layers.Add()([x, x_skip])     \n",
    "    x = tf.keras.layers.Activation('relu')(x)\n",
    "    \n",
    "    return x"
   ]
  },
  {
   "cell_type": "code",
   "execution_count": 14,
   "id": "aa7f399f",
   "metadata": {
    "id": "aa7f399f"
   },
   "outputs": [],
   "source": [
    "def reverse_identity_block(x, num_filters=64, kernel_size=5):\n",
    "    \n",
    "    # copy tensor to variable called x_skip\n",
    "    x_skip = x\n",
    "    \n",
    "    # Layer 1\n",
    "    x = tf.keras.layers.Conv1DTranspose(num_filters, kernel_size, padding = 'same')(x)\n",
    "    x = tf.keras.layers.BatchNormalization(axis=-1)(x)\n",
    "    x = tf.keras.layers.Activation('relu')(x)\n",
    "    \n",
    "    # Layer 2\n",
    "    x = tf.keras.layers.Conv1DTranspose(num_filters, kernel_size, padding = 'same')(x)\n",
    "    x = tf.keras.layers.BatchNormalization(axis=-1)(x)\n",
    "    \n",
    "    # Add Residue\n",
    "    x = tf.keras.layers.Add()([x, x_skip])     \n",
    "    x = tf.keras.layers.Activation('relu')(x)\n",
    "    \n",
    "    return x"
   ]
  },
  {
   "cell_type": "code",
   "execution_count": 15,
   "id": "b1a90cf3",
   "metadata": {
    "id": "b1a90cf3"
   },
   "outputs": [],
   "source": [
    "def ResAutoencoder(x_input_shape=(600,3),\n",
    "                   encoding_dim=100,\n",
    "                   num_res_blocks=9, \n",
    "                   max_pool_itval=3,\n",
    "                   pooling_dim = 2):\n",
    "    \n",
    "    # ============================================ #\n",
    "    # ============= Define the ENCODER =========== #\n",
    "    # ============================================ #\n",
    "    inputs = keras.Input(shape=x_input_shape, name='encoder_input')\n",
    "    x = inputs\n",
    "\n",
    "    # ---- inital cov block\n",
    "    x = tf.keras.layers.Conv1D(32, 7, padding = 'same')(x)\n",
    "    x = tf.keras.layers.BatchNormalization(axis=-1)(x)\n",
    "    x = tf.keras.layers.Activation('relu')(x)\n",
    "    \n",
    "    # ---- Residual blocks\n",
    "    for r in range(1, num_res_blocks + 1):\n",
    "        \n",
    "        x = identity_block(x, num_filters=32, kernel_size=5)\n",
    "        \n",
    "        # --- apply maxpooling after every n res blocks\n",
    "        if r % max_pool_itval == 0:\n",
    "            x = tf.keras.layers.MaxPooling1D(pooling_dim, padding='same')(x)\n",
    "    \n",
    "    # ============================================ #\n",
    "    # ============= Define the LATENT  =========== #\n",
    "    # ============================================ #\n",
    "    shape_before_flatten = int_shape(x)[1:]\n",
    "    x = Flatten()(x)  \n",
    "    latent = Dense(encoding_dim, name='latent_layer')(x)\n",
    "    encoder = Model(inputs=inputs, outputs=latent, name='encoder')\n",
    "    \n",
    "    # ============================================ #\n",
    "    # ============= Define the DECODER =========== #\n",
    "    # ============================================ #\n",
    "    \n",
    "    # ---- reshape back to the dim before flatten\n",
    "    latent_inputs = Input(shape=(encoding_dim), name='decoder_input')\n",
    "    x = latent_inputs\n",
    "    x = Dense(units=np.prod(shape_before_flatten))(x)\n",
    "    x = Reshape(target_shape=shape_before_flatten)(x)\n",
    "    \n",
    "    # ---- Residual blocks\n",
    "    for r in range(0, num_res_blocks-1):\n",
    "        \n",
    "        # --- apply maxpooling after every n res blocks\n",
    "        \n",
    "        if r % max_pool_itval == 0:\n",
    "            x = tf.keras.layers.UpSampling1D(pooling_dim)(x)\n",
    "        \n",
    "        x = reverse_identity_block(x, num_filters=32, kernel_size=5)\n",
    "    \n",
    "    # ---- Final cov block\n",
    "    x = tf.keras.layers.Conv1DTranspose(32, 7, padding = 'same')(x)\n",
    "    x = tf.keras.layers.BatchNormalization(axis=-1)(x)\n",
    "    x = tf.keras.layers.Activation('relu')(x)\n",
    "    \n",
    "    # ---- Final layer\n",
    "    output = Dense(units=x_input_shape[1])(x)\n",
    "\n",
    "    # ---- Build and compile decoder    \n",
    "    decoder = Model(inputs=latent_inputs, outputs=output, name='decoder')\n",
    "    \n",
    "    # ---- combine encoder and decoder\n",
    "    autoencoder = Model(inputs=inputs, \n",
    "                        outputs=decoder(encoder(inputs)), \n",
    "                        name='autoencoder')\n",
    "    return autoencoder, encoder, decoder"
   ]
  },
  {
   "cell_type": "code",
   "execution_count": 16,
   "id": "a268cd13",
   "metadata": {
    "colab": {
     "base_uri": "https://localhost:8080/"
    },
    "id": "a268cd13",
    "outputId": "4240568b-d8b4-4b25-aeca-bed476e68073"
   },
   "outputs": [
    {
     "name": "stdout",
     "output_type": "stream",
     "text": [
      "Model: \"autoencoder\"\n",
      "_________________________________________________________________\n",
      "Layer (type)                 Output Shape              Param #   \n",
      "=================================================================\n",
      "encoder_input (InputLayer)   [(None, 600, 3)]          0         \n",
      "_________________________________________________________________\n",
      "encoder (Functional)         (None, 100)               335972    \n",
      "_________________________________________________________________\n",
      "decoder (Functional)         (None, 600, 3)            334307    \n",
      "=================================================================\n",
      "Total params: 670,279\n",
      "Trainable params: 667,975\n",
      "Non-trainable params: 2,304\n",
      "_________________________________________________________________\n"
     ]
    }
   ],
   "source": [
    "res_autoencoder, encoder, decoder = ResAutoencoder(x_input_shape=(600,3),\n",
    "                     encoding_dim=100,\n",
    "                     num_res_blocks=9, \n",
    "                     max_pool_itval=3,\n",
    "                     pooling_dim = 2)\n",
    "res_autoencoder.summary()\n",
    "#encoder.summary()\n",
    "#decoder.summary()"
   ]
  },
  {
   "cell_type": "code",
   "execution_count": 17,
   "id": "5dd916d6",
   "metadata": {
    "id": "5dd916d6"
   },
   "outputs": [],
   "source": [
    "def return_tbcallbacks(model_name=None):\n",
    "    # ------ define tensorboard callback\n",
    "    if model_name is None:\n",
    "        model_name = datetime.datetime.now().strftime(\"%Y%m%d-%H%M%S\")\n",
    "    else:\n",
    "        model_name = model_name\n",
    "    \n",
    "    logdir = os.path.join(\"logs\", model_name)\n",
    "    tensorboard_callback = tf.keras.callbacks.TensorBoard(logdir,\n",
    "                                                          histogram_freq=1,\n",
    "                                                          write_grads=True)\n",
    "    # ------ check point call backs\n",
    "    checkpointdir = os.path.join(\"checkpoints\", model_name)\n",
    "    checkpointpath = os.path.join(checkpointdir, \"{epoch:04d}.ckpt\")\n",
    "    cp_callback = tf.keras.callbacks.ModelCheckpoint(checkpointpath,\n",
    "                                                     save_weights_only=False,\n",
    "                                                     verbose=5)\n",
    "    return tensorboard_callback, cp_callback"
   ]
  },
  {
   "cell_type": "code",
   "execution_count": 18,
   "id": "a172c7ef",
   "metadata": {
    "id": "a172c7ef"
   },
   "outputs": [],
   "source": [
    "def lr_scheduler(epoch, lr):\n",
    "    decay_rate = 0.5\n",
    "    decay_step = 30\n",
    "    if epoch % decay_step == 0 and epoch:\n",
    "        return lr * pow(decay_rate, np.floor(epoch / decay_step))\n",
    "    return lr\n",
    "callbacks = [LearningRateScheduler(lr_scheduler, verbose=1)]\n",
    "optimizer = optimizers.Adam(learning_rate=0.001)"
   ]
  },
  {
   "cell_type": "code",
   "execution_count": 19,
   "id": "e9d79bbd",
   "metadata": {
    "colab": {
     "base_uri": "https://localhost:8080/",
     "height": 433
    },
    "id": "e9d79bbd",
    "outputId": "ef32e40c-322e-4877-ce72-fc4ddde28f70",
    "scrolled": true
   },
   "outputs": [
    {
     "name": "stderr",
     "output_type": "stream",
     "text": [
      "/home/lchuang/anaconda3/envs/Nukes_LC/lib/python3.7/site-packages/keras/utils/generic_utils.py:497: CustomMaskWarning: Custom mask layers require a config and must override get_config. When loading, the custom mask layer must be passed to the custom_objects argument.\n",
      "  category=CustomMaskWarning)\n"
     ]
    },
    {
     "name": "stdout",
     "output_type": "stream",
     "text": [
      "Epoch 1/50\n",
      "2943/2943 [==============================] - 91s 27ms/step - loss: 0.0442 - val_loss: 0.0268\n",
      "\n",
      "Epoch 00001: saving model to checkpoints/model_01/0001.ckpt\n"
     ]
    },
    {
     "name": "stderr",
     "output_type": "stream",
     "text": [
      "/home/lchuang/anaconda3/envs/Nukes_LC/lib/python3.7/site-packages/keras/utils/generic_utils.py:497: CustomMaskWarning: Custom mask layers require a config and must override get_config. When loading, the custom mask layer must be passed to the custom_objects argument.\n",
      "  category=CustomMaskWarning)\n"
     ]
    },
    {
     "name": "stdout",
     "output_type": "stream",
     "text": [
      "Epoch 2/50\n",
      "2943/2943 [==============================] - 78s 27ms/step - loss: 0.0226 - val_loss: 0.0218\n",
      "\n",
      "Epoch 00002: saving model to checkpoints/model_01/0002.ckpt\n"
     ]
    },
    {
     "name": "stderr",
     "output_type": "stream",
     "text": [
      "/home/lchuang/anaconda3/envs/Nukes_LC/lib/python3.7/site-packages/keras/utils/generic_utils.py:497: CustomMaskWarning: Custom mask layers require a config and must override get_config. When loading, the custom mask layer must be passed to the custom_objects argument.\n",
      "  category=CustomMaskWarning)\n"
     ]
    },
    {
     "name": "stdout",
     "output_type": "stream",
     "text": [
      "Epoch 3/50\n",
      "2943/2943 [==============================] - 79s 27ms/step - loss: 0.0211 - val_loss: 0.0206\n",
      "\n",
      "Epoch 00003: saving model to checkpoints/model_01/0003.ckpt\n"
     ]
    },
    {
     "name": "stderr",
     "output_type": "stream",
     "text": [
      "/home/lchuang/anaconda3/envs/Nukes_LC/lib/python3.7/site-packages/keras/utils/generic_utils.py:497: CustomMaskWarning: Custom mask layers require a config and must override get_config. When loading, the custom mask layer must be passed to the custom_objects argument.\n",
      "  category=CustomMaskWarning)\n"
     ]
    },
    {
     "name": "stdout",
     "output_type": "stream",
     "text": [
      "Epoch 4/50\n",
      "2943/2943 [==============================] - 78s 27ms/step - loss: 0.0203 - val_loss: 0.0201\n",
      "\n",
      "Epoch 00004: saving model to checkpoints/model_01/0004.ckpt\n"
     ]
    },
    {
     "name": "stderr",
     "output_type": "stream",
     "text": [
      "/home/lchuang/anaconda3/envs/Nukes_LC/lib/python3.7/site-packages/keras/utils/generic_utils.py:497: CustomMaskWarning: Custom mask layers require a config and must override get_config. When loading, the custom mask layer must be passed to the custom_objects argument.\n",
      "  category=CustomMaskWarning)\n"
     ]
    },
    {
     "name": "stdout",
     "output_type": "stream",
     "text": [
      "Epoch 5/50\n",
      "2943/2943 [==============================] - 79s 27ms/step - loss: 0.0199 - val_loss: 0.0196\n",
      "\n",
      "Epoch 00005: saving model to checkpoints/model_01/0005.ckpt\n"
     ]
    },
    {
     "name": "stderr",
     "output_type": "stream",
     "text": [
      "/home/lchuang/anaconda3/envs/Nukes_LC/lib/python3.7/site-packages/keras/utils/generic_utils.py:497: CustomMaskWarning: Custom mask layers require a config and must override get_config. When loading, the custom mask layer must be passed to the custom_objects argument.\n",
      "  category=CustomMaskWarning)\n"
     ]
    },
    {
     "name": "stdout",
     "output_type": "stream",
     "text": [
      "Epoch 6/50\n",
      "2943/2943 [==============================] - 79s 27ms/step - loss: 0.0196 - val_loss: 0.0195\n",
      "\n",
      "Epoch 00006: saving model to checkpoints/model_01/0006.ckpt\n"
     ]
    },
    {
     "name": "stderr",
     "output_type": "stream",
     "text": [
      "/home/lchuang/anaconda3/envs/Nukes_LC/lib/python3.7/site-packages/keras/utils/generic_utils.py:497: CustomMaskWarning: Custom mask layers require a config and must override get_config. When loading, the custom mask layer must be passed to the custom_objects argument.\n",
      "  category=CustomMaskWarning)\n"
     ]
    },
    {
     "name": "stdout",
     "output_type": "stream",
     "text": [
      "Epoch 7/50\n",
      "2943/2943 [==============================] - 79s 27ms/step - loss: 0.0195 - val_loss: 0.0194\n",
      "\n",
      "Epoch 00007: saving model to checkpoints/model_01/0007.ckpt\n"
     ]
    },
    {
     "name": "stderr",
     "output_type": "stream",
     "text": [
      "/home/lchuang/anaconda3/envs/Nukes_LC/lib/python3.7/site-packages/keras/utils/generic_utils.py:497: CustomMaskWarning: Custom mask layers require a config and must override get_config. When loading, the custom mask layer must be passed to the custom_objects argument.\n",
      "  category=CustomMaskWarning)\n"
     ]
    },
    {
     "name": "stdout",
     "output_type": "stream",
     "text": [
      "Epoch 8/50\n",
      "2943/2943 [==============================] - 79s 27ms/step - loss: 0.0194 - val_loss: 0.0193\n",
      "\n",
      "Epoch 00008: saving model to checkpoints/model_01/0008.ckpt\n"
     ]
    },
    {
     "name": "stderr",
     "output_type": "stream",
     "text": [
      "/home/lchuang/anaconda3/envs/Nukes_LC/lib/python3.7/site-packages/keras/utils/generic_utils.py:497: CustomMaskWarning: Custom mask layers require a config and must override get_config. When loading, the custom mask layer must be passed to the custom_objects argument.\n",
      "  category=CustomMaskWarning)\n"
     ]
    },
    {
     "name": "stdout",
     "output_type": "stream",
     "text": [
      "Epoch 9/50\n",
      "2943/2943 [==============================] - 78s 27ms/step - loss: 0.0192 - val_loss: 0.0194\n",
      "\n",
      "Epoch 00009: saving model to checkpoints/model_01/0009.ckpt\n"
     ]
    },
    {
     "name": "stderr",
     "output_type": "stream",
     "text": [
      "/home/lchuang/anaconda3/envs/Nukes_LC/lib/python3.7/site-packages/keras/utils/generic_utils.py:497: CustomMaskWarning: Custom mask layers require a config and must override get_config. When loading, the custom mask layer must be passed to the custom_objects argument.\n",
      "  category=CustomMaskWarning)\n"
     ]
    },
    {
     "name": "stdout",
     "output_type": "stream",
     "text": [
      "Epoch 10/50\n",
      "2943/2943 [==============================] - 79s 27ms/step - loss: 0.0191 - val_loss: 0.0191\n",
      "\n",
      "Epoch 00010: saving model to checkpoints/model_01/0010.ckpt\n"
     ]
    },
    {
     "name": "stderr",
     "output_type": "stream",
     "text": [
      "/home/lchuang/anaconda3/envs/Nukes_LC/lib/python3.7/site-packages/keras/utils/generic_utils.py:497: CustomMaskWarning: Custom mask layers require a config and must override get_config. When loading, the custom mask layer must be passed to the custom_objects argument.\n",
      "  category=CustomMaskWarning)\n"
     ]
    },
    {
     "name": "stdout",
     "output_type": "stream",
     "text": [
      "Epoch 11/50\n",
      "2943/2943 [==============================] - 79s 27ms/step - loss: 0.0191 - val_loss: 0.0192\n",
      "\n",
      "Epoch 00011: saving model to checkpoints/model_01/0011.ckpt\n"
     ]
    },
    {
     "name": "stderr",
     "output_type": "stream",
     "text": [
      "/home/lchuang/anaconda3/envs/Nukes_LC/lib/python3.7/site-packages/keras/utils/generic_utils.py:497: CustomMaskWarning: Custom mask layers require a config and must override get_config. When loading, the custom mask layer must be passed to the custom_objects argument.\n",
      "  category=CustomMaskWarning)\n"
     ]
    },
    {
     "name": "stdout",
     "output_type": "stream",
     "text": [
      "Epoch 12/50\n",
      "2943/2943 [==============================] - 79s 27ms/step - loss: 0.0190 - val_loss: 0.0190\n",
      "\n",
      "Epoch 00012: saving model to checkpoints/model_01/0012.ckpt\n"
     ]
    },
    {
     "name": "stderr",
     "output_type": "stream",
     "text": [
      "/home/lchuang/anaconda3/envs/Nukes_LC/lib/python3.7/site-packages/keras/utils/generic_utils.py:497: CustomMaskWarning: Custom mask layers require a config and must override get_config. When loading, the custom mask layer must be passed to the custom_objects argument.\n",
      "  category=CustomMaskWarning)\n"
     ]
    },
    {
     "name": "stdout",
     "output_type": "stream",
     "text": [
      "Epoch 13/50\n",
      "2943/2943 [==============================] - 79s 27ms/step - loss: 0.0189 - val_loss: 0.0191\n",
      "\n",
      "Epoch 00013: saving model to checkpoints/model_01/0013.ckpt\n"
     ]
    },
    {
     "name": "stderr",
     "output_type": "stream",
     "text": [
      "/home/lchuang/anaconda3/envs/Nukes_LC/lib/python3.7/site-packages/keras/utils/generic_utils.py:497: CustomMaskWarning: Custom mask layers require a config and must override get_config. When loading, the custom mask layer must be passed to the custom_objects argument.\n",
      "  category=CustomMaskWarning)\n"
     ]
    },
    {
     "name": "stdout",
     "output_type": "stream",
     "text": [
      "Epoch 14/50\n",
      "2943/2943 [==============================] - 79s 27ms/step - loss: 0.0188 - val_loss: 0.0190\n",
      "\n",
      "Epoch 00014: saving model to checkpoints/model_01/0014.ckpt\n"
     ]
    },
    {
     "name": "stderr",
     "output_type": "stream",
     "text": [
      "/home/lchuang/anaconda3/envs/Nukes_LC/lib/python3.7/site-packages/keras/utils/generic_utils.py:497: CustomMaskWarning: Custom mask layers require a config and must override get_config. When loading, the custom mask layer must be passed to the custom_objects argument.\n",
      "  category=CustomMaskWarning)\n"
     ]
    },
    {
     "name": "stdout",
     "output_type": "stream",
     "text": [
      "Epoch 15/50\n",
      "2943/2943 [==============================] - 79s 27ms/step - loss: 0.0188 - val_loss: 0.0190\n",
      "\n",
      "Epoch 00015: saving model to checkpoints/model_01/0015.ckpt\n"
     ]
    },
    {
     "name": "stderr",
     "output_type": "stream",
     "text": [
      "/home/lchuang/anaconda3/envs/Nukes_LC/lib/python3.7/site-packages/keras/utils/generic_utils.py:497: CustomMaskWarning: Custom mask layers require a config and must override get_config. When loading, the custom mask layer must be passed to the custom_objects argument.\n",
      "  category=CustomMaskWarning)\n"
     ]
    },
    {
     "name": "stdout",
     "output_type": "stream",
     "text": [
      "Epoch 16/50\n",
      "2943/2943 [==============================] - 78s 27ms/step - loss: 0.0187 - val_loss: 0.0192\n",
      "\n",
      "Epoch 00016: saving model to checkpoints/model_01/0016.ckpt\n"
     ]
    },
    {
     "name": "stderr",
     "output_type": "stream",
     "text": [
      "/home/lchuang/anaconda3/envs/Nukes_LC/lib/python3.7/site-packages/keras/utils/generic_utils.py:497: CustomMaskWarning: Custom mask layers require a config and must override get_config. When loading, the custom mask layer must be passed to the custom_objects argument.\n",
      "  category=CustomMaskWarning)\n"
     ]
    },
    {
     "name": "stdout",
     "output_type": "stream",
     "text": [
      "Epoch 17/50\n",
      "2943/2943 [==============================] - 78s 27ms/step - loss: 0.0187 - val_loss: 0.0189\n",
      "\n",
      "Epoch 00017: saving model to checkpoints/model_01/0017.ckpt\n"
     ]
    },
    {
     "name": "stderr",
     "output_type": "stream",
     "text": [
      "/home/lchuang/anaconda3/envs/Nukes_LC/lib/python3.7/site-packages/keras/utils/generic_utils.py:497: CustomMaskWarning: Custom mask layers require a config and must override get_config. When loading, the custom mask layer must be passed to the custom_objects argument.\n",
      "  category=CustomMaskWarning)\n"
     ]
    },
    {
     "name": "stdout",
     "output_type": "stream",
     "text": [
      "Epoch 18/50\n",
      "2943/2943 [==============================] - 78s 27ms/step - loss: 0.0186 - val_loss: 0.0190\n",
      "\n",
      "Epoch 00018: saving model to checkpoints/model_01/0018.ckpt\n"
     ]
    },
    {
     "name": "stderr",
     "output_type": "stream",
     "text": [
      "/home/lchuang/anaconda3/envs/Nukes_LC/lib/python3.7/site-packages/keras/utils/generic_utils.py:497: CustomMaskWarning: Custom mask layers require a config and must override get_config. When loading, the custom mask layer must be passed to the custom_objects argument.\n",
      "  category=CustomMaskWarning)\n"
     ]
    },
    {
     "name": "stdout",
     "output_type": "stream",
     "text": [
      "Epoch 19/50\n",
      "2943/2943 [==============================] - 79s 27ms/step - loss: 0.0186 - val_loss: 0.0188\n",
      "\n",
      "Epoch 00019: saving model to checkpoints/model_01/0019.ckpt\n"
     ]
    },
    {
     "name": "stderr",
     "output_type": "stream",
     "text": [
      "/home/lchuang/anaconda3/envs/Nukes_LC/lib/python3.7/site-packages/keras/utils/generic_utils.py:497: CustomMaskWarning: Custom mask layers require a config and must override get_config. When loading, the custom mask layer must be passed to the custom_objects argument.\n",
      "  category=CustomMaskWarning)\n"
     ]
    },
    {
     "name": "stdout",
     "output_type": "stream",
     "text": [
      "Epoch 20/50\n",
      "2943/2943 [==============================] - 78s 27ms/step - loss: 0.0185 - val_loss: 0.0189\n",
      "\n",
      "Epoch 00020: saving model to checkpoints/model_01/0020.ckpt\n"
     ]
    },
    {
     "name": "stderr",
     "output_type": "stream",
     "text": [
      "/home/lchuang/anaconda3/envs/Nukes_LC/lib/python3.7/site-packages/keras/utils/generic_utils.py:497: CustomMaskWarning: Custom mask layers require a config and must override get_config. When loading, the custom mask layer must be passed to the custom_objects argument.\n",
      "  category=CustomMaskWarning)\n"
     ]
    },
    {
     "name": "stdout",
     "output_type": "stream",
     "text": [
      "Epoch 21/50\n",
      "2943/2943 [==============================] - 78s 27ms/step - loss: 0.0185 - val_loss: 0.0188\n",
      "\n",
      "Epoch 00021: saving model to checkpoints/model_01/0021.ckpt\n"
     ]
    },
    {
     "name": "stderr",
     "output_type": "stream",
     "text": [
      "/home/lchuang/anaconda3/envs/Nukes_LC/lib/python3.7/site-packages/keras/utils/generic_utils.py:497: CustomMaskWarning: Custom mask layers require a config and must override get_config. When loading, the custom mask layer must be passed to the custom_objects argument.\n",
      "  category=CustomMaskWarning)\n"
     ]
    },
    {
     "name": "stdout",
     "output_type": "stream",
     "text": [
      "Epoch 22/50\n",
      "2943/2943 [==============================] - 78s 27ms/step - loss: 0.0185 - val_loss: 0.0189\n",
      "\n",
      "Epoch 00022: saving model to checkpoints/model_01/0022.ckpt\n"
     ]
    },
    {
     "name": "stderr",
     "output_type": "stream",
     "text": [
      "/home/lchuang/anaconda3/envs/Nukes_LC/lib/python3.7/site-packages/keras/utils/generic_utils.py:497: CustomMaskWarning: Custom mask layers require a config and must override get_config. When loading, the custom mask layer must be passed to the custom_objects argument.\n",
      "  category=CustomMaskWarning)\n"
     ]
    },
    {
     "name": "stdout",
     "output_type": "stream",
     "text": [
      "Epoch 23/50\n",
      "2943/2943 [==============================] - 79s 27ms/step - loss: 0.0184 - val_loss: 0.0188\n",
      "\n",
      "Epoch 00023: saving model to checkpoints/model_01/0023.ckpt\n"
     ]
    },
    {
     "name": "stderr",
     "output_type": "stream",
     "text": [
      "/home/lchuang/anaconda3/envs/Nukes_LC/lib/python3.7/site-packages/keras/utils/generic_utils.py:497: CustomMaskWarning: Custom mask layers require a config and must override get_config. When loading, the custom mask layer must be passed to the custom_objects argument.\n",
      "  category=CustomMaskWarning)\n"
     ]
    },
    {
     "name": "stdout",
     "output_type": "stream",
     "text": [
      "Epoch 24/50\n",
      "2943/2943 [==============================] - 79s 27ms/step - loss: 0.0184 - val_loss: 0.0189\n",
      "\n",
      "Epoch 00024: saving model to checkpoints/model_01/0024.ckpt\n"
     ]
    },
    {
     "name": "stderr",
     "output_type": "stream",
     "text": [
      "/home/lchuang/anaconda3/envs/Nukes_LC/lib/python3.7/site-packages/keras/utils/generic_utils.py:497: CustomMaskWarning: Custom mask layers require a config and must override get_config. When loading, the custom mask layer must be passed to the custom_objects argument.\n",
      "  category=CustomMaskWarning)\n"
     ]
    },
    {
     "name": "stdout",
     "output_type": "stream",
     "text": [
      "Epoch 25/50\n",
      "2943/2943 [==============================] - 79s 27ms/step - loss: 0.0184 - val_loss: 0.0187\n",
      "\n",
      "Epoch 00025: saving model to checkpoints/model_01/0025.ckpt\n"
     ]
    },
    {
     "name": "stderr",
     "output_type": "stream",
     "text": [
      "/home/lchuang/anaconda3/envs/Nukes_LC/lib/python3.7/site-packages/keras/utils/generic_utils.py:497: CustomMaskWarning: Custom mask layers require a config and must override get_config. When loading, the custom mask layer must be passed to the custom_objects argument.\n",
      "  category=CustomMaskWarning)\n"
     ]
    },
    {
     "name": "stdout",
     "output_type": "stream",
     "text": [
      "Epoch 26/50\n",
      "2943/2943 [==============================] - 79s 27ms/step - loss: 0.0183 - val_loss: 0.0187\n",
      "\n",
      "Epoch 00026: saving model to checkpoints/model_01/0026.ckpt\n"
     ]
    },
    {
     "name": "stderr",
     "output_type": "stream",
     "text": [
      "/home/lchuang/anaconda3/envs/Nukes_LC/lib/python3.7/site-packages/keras/utils/generic_utils.py:497: CustomMaskWarning: Custom mask layers require a config and must override get_config. When loading, the custom mask layer must be passed to the custom_objects argument.\n",
      "  category=CustomMaskWarning)\n"
     ]
    },
    {
     "name": "stdout",
     "output_type": "stream",
     "text": [
      "Epoch 27/50\n",
      "2943/2943 [==============================] - 79s 27ms/step - loss: 0.0183 - val_loss: 0.0188\n",
      "\n",
      "Epoch 00027: saving model to checkpoints/model_01/0027.ckpt\n"
     ]
    },
    {
     "name": "stderr",
     "output_type": "stream",
     "text": [
      "/home/lchuang/anaconda3/envs/Nukes_LC/lib/python3.7/site-packages/keras/utils/generic_utils.py:497: CustomMaskWarning: Custom mask layers require a config and must override get_config. When loading, the custom mask layer must be passed to the custom_objects argument.\n",
      "  category=CustomMaskWarning)\n"
     ]
    },
    {
     "name": "stdout",
     "output_type": "stream",
     "text": [
      "Epoch 28/50\n",
      "2943/2943 [==============================] - 79s 27ms/step - loss: 0.0183 - val_loss: 0.0187\n",
      "\n",
      "Epoch 00028: saving model to checkpoints/model_01/0028.ckpt\n"
     ]
    },
    {
     "name": "stderr",
     "output_type": "stream",
     "text": [
      "/home/lchuang/anaconda3/envs/Nukes_LC/lib/python3.7/site-packages/keras/utils/generic_utils.py:497: CustomMaskWarning: Custom mask layers require a config and must override get_config. When loading, the custom mask layer must be passed to the custom_objects argument.\n",
      "  category=CustomMaskWarning)\n"
     ]
    },
    {
     "name": "stdout",
     "output_type": "stream",
     "text": [
      "Epoch 29/50\n",
      "2943/2943 [==============================] - 79s 27ms/step - loss: 0.0183 - val_loss: 0.0187\n",
      "\n",
      "Epoch 00029: saving model to checkpoints/model_01/0029.ckpt\n"
     ]
    },
    {
     "name": "stderr",
     "output_type": "stream",
     "text": [
      "/home/lchuang/anaconda3/envs/Nukes_LC/lib/python3.7/site-packages/keras/utils/generic_utils.py:497: CustomMaskWarning: Custom mask layers require a config and must override get_config. When loading, the custom mask layer must be passed to the custom_objects argument.\n",
      "  category=CustomMaskWarning)\n"
     ]
    },
    {
     "name": "stdout",
     "output_type": "stream",
     "text": [
      "Epoch 30/50\n",
      "2943/2943 [==============================] - 79s 27ms/step - loss: 0.0182 - val_loss: 0.0188\n",
      "\n",
      "Epoch 00030: saving model to checkpoints/model_01/0030.ckpt\n"
     ]
    },
    {
     "name": "stderr",
     "output_type": "stream",
     "text": [
      "/home/lchuang/anaconda3/envs/Nukes_LC/lib/python3.7/site-packages/keras/utils/generic_utils.py:497: CustomMaskWarning: Custom mask layers require a config and must override get_config. When loading, the custom mask layer must be passed to the custom_objects argument.\n",
      "  category=CustomMaskWarning)\n"
     ]
    },
    {
     "name": "stdout",
     "output_type": "stream",
     "text": [
      "Epoch 31/50\n",
      "2943/2943 [==============================] - 79s 27ms/step - loss: 0.0182 - val_loss: 0.0186\n",
      "\n",
      "Epoch 00031: saving model to checkpoints/model_01/0031.ckpt\n"
     ]
    },
    {
     "name": "stderr",
     "output_type": "stream",
     "text": [
      "/home/lchuang/anaconda3/envs/Nukes_LC/lib/python3.7/site-packages/keras/utils/generic_utils.py:497: CustomMaskWarning: Custom mask layers require a config and must override get_config. When loading, the custom mask layer must be passed to the custom_objects argument.\n",
      "  category=CustomMaskWarning)\n"
     ]
    },
    {
     "name": "stdout",
     "output_type": "stream",
     "text": [
      "Epoch 32/50\n",
      "2943/2943 [==============================] - 79s 27ms/step - loss: 0.0182 - val_loss: 0.0187\n",
      "\n",
      "Epoch 00032: saving model to checkpoints/model_01/0032.ckpt\n"
     ]
    },
    {
     "name": "stderr",
     "output_type": "stream",
     "text": [
      "/home/lchuang/anaconda3/envs/Nukes_LC/lib/python3.7/site-packages/keras/utils/generic_utils.py:497: CustomMaskWarning: Custom mask layers require a config and must override get_config. When loading, the custom mask layer must be passed to the custom_objects argument.\n",
      "  category=CustomMaskWarning)\n"
     ]
    },
    {
     "name": "stdout",
     "output_type": "stream",
     "text": [
      "Epoch 33/50\n",
      "2943/2943 [==============================] - 79s 27ms/step - loss: 0.0182 - val_loss: 0.0186\n",
      "\n",
      "Epoch 00033: saving model to checkpoints/model_01/0033.ckpt\n"
     ]
    },
    {
     "name": "stderr",
     "output_type": "stream",
     "text": [
      "/home/lchuang/anaconda3/envs/Nukes_LC/lib/python3.7/site-packages/keras/utils/generic_utils.py:497: CustomMaskWarning: Custom mask layers require a config and must override get_config. When loading, the custom mask layer must be passed to the custom_objects argument.\n",
      "  category=CustomMaskWarning)\n"
     ]
    },
    {
     "name": "stdout",
     "output_type": "stream",
     "text": [
      "Epoch 34/50\n",
      "2943/2943 [==============================] - 78s 27ms/step - loss: 0.0182 - val_loss: 0.0186\n",
      "\n",
      "Epoch 00034: saving model to checkpoints/model_01/0034.ckpt\n"
     ]
    },
    {
     "name": "stderr",
     "output_type": "stream",
     "text": [
      "/home/lchuang/anaconda3/envs/Nukes_LC/lib/python3.7/site-packages/keras/utils/generic_utils.py:497: CustomMaskWarning: Custom mask layers require a config and must override get_config. When loading, the custom mask layer must be passed to the custom_objects argument.\n",
      "  category=CustomMaskWarning)\n"
     ]
    },
    {
     "name": "stdout",
     "output_type": "stream",
     "text": [
      "Epoch 35/50\n",
      "2943/2943 [==============================] - 79s 27ms/step - loss: 0.0181 - val_loss: 0.0187\n",
      "\n",
      "Epoch 00035: saving model to checkpoints/model_01/0035.ckpt\n"
     ]
    },
    {
     "name": "stderr",
     "output_type": "stream",
     "text": [
      "/home/lchuang/anaconda3/envs/Nukes_LC/lib/python3.7/site-packages/keras/utils/generic_utils.py:497: CustomMaskWarning: Custom mask layers require a config and must override get_config. When loading, the custom mask layer must be passed to the custom_objects argument.\n",
      "  category=CustomMaskWarning)\n"
     ]
    },
    {
     "name": "stdout",
     "output_type": "stream",
     "text": [
      "Epoch 36/50\n",
      "2943/2943 [==============================] - 79s 27ms/step - loss: 0.0181 - val_loss: 0.0187\n",
      "\n",
      "Epoch 00036: saving model to checkpoints/model_01/0036.ckpt\n"
     ]
    },
    {
     "name": "stderr",
     "output_type": "stream",
     "text": [
      "/home/lchuang/anaconda3/envs/Nukes_LC/lib/python3.7/site-packages/keras/utils/generic_utils.py:497: CustomMaskWarning: Custom mask layers require a config and must override get_config. When loading, the custom mask layer must be passed to the custom_objects argument.\n",
      "  category=CustomMaskWarning)\n"
     ]
    },
    {
     "name": "stdout",
     "output_type": "stream",
     "text": [
      "Epoch 37/50\n",
      "2943/2943 [==============================] - 79s 27ms/step - loss: 0.0181 - val_loss: 0.0186\n",
      "\n",
      "Epoch 00037: saving model to checkpoints/model_01/0037.ckpt\n"
     ]
    },
    {
     "name": "stderr",
     "output_type": "stream",
     "text": [
      "/home/lchuang/anaconda3/envs/Nukes_LC/lib/python3.7/site-packages/keras/utils/generic_utils.py:497: CustomMaskWarning: Custom mask layers require a config and must override get_config. When loading, the custom mask layer must be passed to the custom_objects argument.\n",
      "  category=CustomMaskWarning)\n"
     ]
    },
    {
     "name": "stdout",
     "output_type": "stream",
     "text": [
      "Epoch 38/50\n",
      "2943/2943 [==============================] - 79s 27ms/step - loss: 0.0181 - val_loss: 0.0187\n",
      "\n",
      "Epoch 00038: saving model to checkpoints/model_01/0038.ckpt\n"
     ]
    },
    {
     "name": "stderr",
     "output_type": "stream",
     "text": [
      "/home/lchuang/anaconda3/envs/Nukes_LC/lib/python3.7/site-packages/keras/utils/generic_utils.py:497: CustomMaskWarning: Custom mask layers require a config and must override get_config. When loading, the custom mask layer must be passed to the custom_objects argument.\n",
      "  category=CustomMaskWarning)\n"
     ]
    },
    {
     "name": "stdout",
     "output_type": "stream",
     "text": [
      "Epoch 39/50\n",
      "2943/2943 [==============================] - 79s 27ms/step - loss: 0.0181 - val_loss: 0.0186\n",
      "\n",
      "Epoch 00039: saving model to checkpoints/model_01/0039.ckpt\n"
     ]
    },
    {
     "name": "stderr",
     "output_type": "stream",
     "text": [
      "/home/lchuang/anaconda3/envs/Nukes_LC/lib/python3.7/site-packages/keras/utils/generic_utils.py:497: CustomMaskWarning: Custom mask layers require a config and must override get_config. When loading, the custom mask layer must be passed to the custom_objects argument.\n",
      "  category=CustomMaskWarning)\n"
     ]
    },
    {
     "name": "stdout",
     "output_type": "stream",
     "text": [
      "Epoch 40/50\n",
      "2943/2943 [==============================] - 79s 27ms/step - loss: 0.0180 - val_loss: 0.0189\n",
      "\n",
      "Epoch 00040: saving model to checkpoints/model_01/0040.ckpt\n"
     ]
    },
    {
     "name": "stderr",
     "output_type": "stream",
     "text": [
      "/home/lchuang/anaconda3/envs/Nukes_LC/lib/python3.7/site-packages/keras/utils/generic_utils.py:497: CustomMaskWarning: Custom mask layers require a config and must override get_config. When loading, the custom mask layer must be passed to the custom_objects argument.\n",
      "  category=CustomMaskWarning)\n"
     ]
    },
    {
     "name": "stdout",
     "output_type": "stream",
     "text": [
      "Epoch 41/50\n",
      "2943/2943 [==============================] - 79s 27ms/step - loss: 0.0180 - val_loss: 0.0187\n",
      "\n",
      "Epoch 00041: saving model to checkpoints/model_01/0041.ckpt\n"
     ]
    },
    {
     "name": "stderr",
     "output_type": "stream",
     "text": [
      "/home/lchuang/anaconda3/envs/Nukes_LC/lib/python3.7/site-packages/keras/utils/generic_utils.py:497: CustomMaskWarning: Custom mask layers require a config and must override get_config. When loading, the custom mask layer must be passed to the custom_objects argument.\n",
      "  category=CustomMaskWarning)\n"
     ]
    },
    {
     "name": "stdout",
     "output_type": "stream",
     "text": [
      "Epoch 42/50\n",
      "2943/2943 [==============================] - 79s 27ms/step - loss: 0.0180 - val_loss: 0.0187\n",
      "\n",
      "Epoch 00042: saving model to checkpoints/model_01/0042.ckpt\n"
     ]
    },
    {
     "name": "stderr",
     "output_type": "stream",
     "text": [
      "/home/lchuang/anaconda3/envs/Nukes_LC/lib/python3.7/site-packages/keras/utils/generic_utils.py:497: CustomMaskWarning: Custom mask layers require a config and must override get_config. When loading, the custom mask layer must be passed to the custom_objects argument.\n",
      "  category=CustomMaskWarning)\n"
     ]
    },
    {
     "name": "stdout",
     "output_type": "stream",
     "text": [
      "Epoch 43/50\n",
      "2943/2943 [==============================] - 79s 27ms/step - loss: 0.0180 - val_loss: 0.0186\n",
      "\n",
      "Epoch 00043: saving model to checkpoints/model_01/0043.ckpt\n"
     ]
    },
    {
     "name": "stderr",
     "output_type": "stream",
     "text": [
      "/home/lchuang/anaconda3/envs/Nukes_LC/lib/python3.7/site-packages/keras/utils/generic_utils.py:497: CustomMaskWarning: Custom mask layers require a config and must override get_config. When loading, the custom mask layer must be passed to the custom_objects argument.\n",
      "  category=CustomMaskWarning)\n"
     ]
    },
    {
     "name": "stdout",
     "output_type": "stream",
     "text": [
      "Epoch 44/50\n",
      "2943/2943 [==============================] - 79s 27ms/step - loss: 0.0180 - val_loss: 0.0185\n",
      "\n",
      "Epoch 00044: saving model to checkpoints/model_01/0044.ckpt\n"
     ]
    },
    {
     "name": "stderr",
     "output_type": "stream",
     "text": [
      "/home/lchuang/anaconda3/envs/Nukes_LC/lib/python3.7/site-packages/keras/utils/generic_utils.py:497: CustomMaskWarning: Custom mask layers require a config and must override get_config. When loading, the custom mask layer must be passed to the custom_objects argument.\n",
      "  category=CustomMaskWarning)\n"
     ]
    },
    {
     "name": "stdout",
     "output_type": "stream",
     "text": [
      "Epoch 45/50\n",
      "2943/2943 [==============================] - 79s 27ms/step - loss: 0.0180 - val_loss: 0.0185\n",
      "\n",
      "Epoch 00045: saving model to checkpoints/model_01/0045.ckpt\n"
     ]
    },
    {
     "name": "stderr",
     "output_type": "stream",
     "text": [
      "/home/lchuang/anaconda3/envs/Nukes_LC/lib/python3.7/site-packages/keras/utils/generic_utils.py:497: CustomMaskWarning: Custom mask layers require a config and must override get_config. When loading, the custom mask layer must be passed to the custom_objects argument.\n",
      "  category=CustomMaskWarning)\n"
     ]
    },
    {
     "name": "stdout",
     "output_type": "stream",
     "text": [
      "Epoch 46/50\n",
      "2943/2943 [==============================] - 79s 27ms/step - loss: 0.0180 - val_loss: 0.0187\n",
      "\n",
      "Epoch 00046: saving model to checkpoints/model_01/0046.ckpt\n"
     ]
    },
    {
     "name": "stderr",
     "output_type": "stream",
     "text": [
      "/home/lchuang/anaconda3/envs/Nukes_LC/lib/python3.7/site-packages/keras/utils/generic_utils.py:497: CustomMaskWarning: Custom mask layers require a config and must override get_config. When loading, the custom mask layer must be passed to the custom_objects argument.\n",
      "  category=CustomMaskWarning)\n"
     ]
    },
    {
     "name": "stdout",
     "output_type": "stream",
     "text": [
      "Epoch 47/50\n",
      "2943/2943 [==============================] - 79s 27ms/step - loss: 0.0180 - val_loss: 0.0186\n",
      "\n",
      "Epoch 00047: saving model to checkpoints/model_01/0047.ckpt\n"
     ]
    },
    {
     "name": "stderr",
     "output_type": "stream",
     "text": [
      "/home/lchuang/anaconda3/envs/Nukes_LC/lib/python3.7/site-packages/keras/utils/generic_utils.py:497: CustomMaskWarning: Custom mask layers require a config and must override get_config. When loading, the custom mask layer must be passed to the custom_objects argument.\n",
      "  category=CustomMaskWarning)\n"
     ]
    },
    {
     "name": "stdout",
     "output_type": "stream",
     "text": [
      "Epoch 48/50\n",
      "2943/2943 [==============================] - 79s 27ms/step - loss: 0.0179 - val_loss: 0.0186\n",
      "\n",
      "Epoch 00048: saving model to checkpoints/model_01/0048.ckpt\n"
     ]
    },
    {
     "name": "stderr",
     "output_type": "stream",
     "text": [
      "/home/lchuang/anaconda3/envs/Nukes_LC/lib/python3.7/site-packages/keras/utils/generic_utils.py:497: CustomMaskWarning: Custom mask layers require a config and must override get_config. When loading, the custom mask layer must be passed to the custom_objects argument.\n",
      "  category=CustomMaskWarning)\n"
     ]
    },
    {
     "name": "stdout",
     "output_type": "stream",
     "text": [
      "Epoch 49/50\n",
      "2943/2943 [==============================] - 78s 27ms/step - loss: 0.0179 - val_loss: 0.0186\n",
      "\n",
      "Epoch 00049: saving model to checkpoints/model_01/0049.ckpt\n"
     ]
    },
    {
     "name": "stderr",
     "output_type": "stream",
     "text": [
      "/home/lchuang/anaconda3/envs/Nukes_LC/lib/python3.7/site-packages/keras/utils/generic_utils.py:497: CustomMaskWarning: Custom mask layers require a config and must override get_config. When loading, the custom mask layer must be passed to the custom_objects argument.\n",
      "  category=CustomMaskWarning)\n"
     ]
    },
    {
     "name": "stdout",
     "output_type": "stream",
     "text": [
      "Epoch 50/50\n",
      "2943/2943 [==============================] - 79s 27ms/step - loss: 0.0179 - val_loss: 0.0187\n",
      "\n",
      "Epoch 00050: saving model to checkpoints/model_01/0050.ckpt\n"
     ]
    },
    {
     "name": "stderr",
     "output_type": "stream",
     "text": [
      "/home/lchuang/anaconda3/envs/Nukes_LC/lib/python3.7/site-packages/keras/utils/generic_utils.py:497: CustomMaskWarning: Custom mask layers require a config and must override get_config. When loading, the custom mask layer must be passed to the custom_objects argument.\n",
      "  category=CustomMaskWarning)\n"
     ]
    }
   ],
   "source": [
    "res_autoencoder.compile(loss='mse', optimizer=optimizer)\n",
    "\n",
    "tensorboard_callback, cp_callback = return_tbcallbacks(model_name='model_01')\n",
    "history_model_one = res_autoencoder.fit(waves_train,\n",
    "                                         waves_train,\n",
    "                                         epochs=50, \n",
    "                                         batch_size=32, \n",
    "                                         verbose=1, \n",
    "                                         validation_split=0.2,\n",
    "                                         callbacks=[tensorboard_callback,cp_callback])"
   ]
  },
  {
   "cell_type": "code",
   "execution_count": 20,
   "id": "0862039b",
   "metadata": {
    "colab": {
     "base_uri": "https://localhost:8080/",
     "height": 243
    },
    "id": "0862039b",
    "outputId": "db6fea58-81cc-485d-b876-f277ea672aa8"
   },
   "outputs": [
    {
     "data": {
      "image/png": "[encoded data removed]",
      "text/plain": [
       "<Figure size 432x288 with 1 Axes>"
      ]
     },
     "metadata": {
      "needs_background": "light"
     },
     "output_type": "display_data"
    }
   ],
   "source": [
    "import matplotlib.pyplot as plt\n",
    "start = 1\n",
    "plt.plot(history_model_one.history['loss'][start:], label='train')\n",
    "plt.plot(history_model_one.history['val_loss'][start:], label='validation')\n",
    "plt.legend()\n",
    "plt.xlabel('epoch')\n",
    "plt.ylabel('loss, mse')\n",
    "plt.title('Autoencoder training curve')\n",
    "plt.show()"
   ]
  },
  {
   "cell_type": "markdown",
   "id": "649d5772",
   "metadata": {
    "id": "649d5772"
   },
   "source": [
    "### Load in pre-trained encoder model "
   ]
  },
  {
   "cell_type": "code",
   "execution_count": 21,
   "id": "ed2c8246",
   "metadata": {
    "colab": {
     "base_uri": "https://localhost:8080/"
    },
    "id": "ed2c8246",
    "outputId": "094f231e-eb85-4b56-b2a1-bbf372e916a3"
   },
   "outputs": [
    {
     "name": "stdout",
     "output_type": "stream",
     "text": [
      "Model: \"autoencoder\"\n",
      "_________________________________________________________________\n",
      "Layer (type)                 Output Shape              Param #   \n",
      "=================================================================\n",
      "encoder_input (InputLayer)   [(None, 600, 3)]          0         \n",
      "_________________________________________________________________\n",
      "encoder (Functional)         (None, 100)               335972    \n",
      "_________________________________________________________________\n",
      "decoder (Functional)         (None, 600, 3)            334307    \n",
      "=================================================================\n",
      "Total params: 670,279\n",
      "Trainable params: 667,975\n",
      "Non-trainable params: 2,304\n",
      "_________________________________________________________________\n"
     ]
    }
   ],
   "source": [
    "model_name = \"model_01\"\n",
    "epoch = 20\n",
    "path_to_model = f'./checkpoints/{model_name}/{epoch:04d}.ckpt'\n",
    "autoencoder = tf.keras.models.load_model(path_to_model)\n",
    "autoencoder.summary()"
   ]
  },
  {
   "cell_type": "markdown",
   "id": "999c786a",
   "metadata": {
    "id": "999c786a"
   },
   "source": [
    "### Get encoder "
   ]
  },
  {
   "cell_type": "code",
   "execution_count": 22,
   "id": "d20d6e08",
   "metadata": {
    "colab": {
     "base_uri": "https://localhost:8080/"
    },
    "id": "d20d6e08",
    "outputId": "3999e01c-fa06-4f69-ffdf-0818c594b820",
    "scrolled": true
   },
   "outputs": [
    {
     "name": "stdout",
     "output_type": "stream",
     "text": [
      "Model: \"encoder\"\n",
      "__________________________________________________________________________________________________\n",
      "Layer (type)                    Output Shape         Param #     Connected to                     \n",
      "==================================================================================================\n",
      "encoder_input (InputLayer)      [(None, 600, 3)]     0                                            \n",
      "__________________________________________________________________________________________________\n",
      "conv1d (Conv1D)                 (None, 600, 32)      704         encoder_input[0][0]              \n",
      "__________________________________________________________________________________________________\n",
      "batch_normalization (BatchNorma (None, 600, 32)      128         conv1d[0][0]                     \n",
      "__________________________________________________________________________________________________\n",
      "activation (Activation)         (None, 600, 32)      0           batch_normalization[0][0]        \n",
      "__________________________________________________________________________________________________\n",
      "conv1d_1 (Conv1D)               (None, 600, 32)      5152        activation[0][0]                 \n",
      "__________________________________________________________________________________________________\n",
      "batch_normalization_1 (BatchNor (None, 600, 32)      128         conv1d_1[0][0]                   \n",
      "__________________________________________________________________________________________________\n",
      "activation_1 (Activation)       (None, 600, 32)      0           batch_normalization_1[0][0]      \n",
      "__________________________________________________________________________________________________\n",
      "conv1d_2 (Conv1D)               (None, 600, 32)      5152        activation_1[0][0]               \n",
      "__________________________________________________________________________________________________\n",
      "batch_normalization_2 (BatchNor (None, 600, 32)      128         conv1d_2[0][0]                   \n",
      "__________________________________________________________________________________________________\n",
      "add (Add)                       (None, 600, 32)      0           batch_normalization_2[0][0]      \n",
      "                                                                 activation[0][0]                 \n",
      "__________________________________________________________________________________________________\n",
      "activation_2 (Activation)       (None, 600, 32)      0           add[0][0]                        \n",
      "__________________________________________________________________________________________________\n",
      "conv1d_3 (Conv1D)               (None, 600, 32)      5152        activation_2[0][0]               \n",
      "__________________________________________________________________________________________________\n",
      "batch_normalization_3 (BatchNor (None, 600, 32)      128         conv1d_3[0][0]                   \n",
      "__________________________________________________________________________________________________\n",
      "activation_3 (Activation)       (None, 600, 32)      0           batch_normalization_3[0][0]      \n",
      "__________________________________________________________________________________________________\n",
      "conv1d_4 (Conv1D)               (None, 600, 32)      5152        activation_3[0][0]               \n",
      "__________________________________________________________________________________________________\n",
      "batch_normalization_4 (BatchNor (None, 600, 32)      128         conv1d_4[0][0]                   \n",
      "__________________________________________________________________________________________________\n",
      "add_1 (Add)                     (None, 600, 32)      0           batch_normalization_4[0][0]      \n",
      "                                                                 activation_2[0][0]               \n",
      "__________________________________________________________________________________________________\n",
      "activation_4 (Activation)       (None, 600, 32)      0           add_1[0][0]                      \n",
      "__________________________________________________________________________________________________\n",
      "conv1d_5 (Conv1D)               (None, 600, 32)      5152        activation_4[0][0]               \n",
      "__________________________________________________________________________________________________\n",
      "batch_normalization_5 (BatchNor (None, 600, 32)      128         conv1d_5[0][0]                   \n",
      "__________________________________________________________________________________________________\n",
      "activation_5 (Activation)       (None, 600, 32)      0           batch_normalization_5[0][0]      \n",
      "__________________________________________________________________________________________________\n",
      "conv1d_6 (Conv1D)               (None, 600, 32)      5152        activation_5[0][0]               \n",
      "__________________________________________________________________________________________________\n",
      "batch_normalization_6 (BatchNor (None, 600, 32)      128         conv1d_6[0][0]                   \n",
      "__________________________________________________________________________________________________\n",
      "add_2 (Add)                     (None, 600, 32)      0           batch_normalization_6[0][0]      \n",
      "                                                                 activation_4[0][0]               \n",
      "__________________________________________________________________________________________________\n",
      "activation_6 (Activation)       (None, 600, 32)      0           add_2[0][0]                      \n",
      "__________________________________________________________________________________________________\n",
      "max_pooling1d (MaxPooling1D)    (None, 300, 32)      0           activation_6[0][0]               \n",
      "__________________________________________________________________________________________________\n",
      "conv1d_7 (Conv1D)               (None, 300, 32)      5152        max_pooling1d[0][0]              \n",
      "__________________________________________________________________________________________________\n",
      "batch_normalization_7 (BatchNor (None, 300, 32)      128         conv1d_7[0][0]                   \n",
      "__________________________________________________________________________________________________\n",
      "activation_7 (Activation)       (None, 300, 32)      0           batch_normalization_7[0][0]      \n",
      "__________________________________________________________________________________________________\n",
      "conv1d_8 (Conv1D)               (None, 300, 32)      5152        activation_7[0][0]               \n",
      "__________________________________________________________________________________________________\n",
      "batch_normalization_8 (BatchNor (None, 300, 32)      128         conv1d_8[0][0]                   \n",
      "__________________________________________________________________________________________________\n",
      "add_3 (Add)                     (None, 300, 32)      0           batch_normalization_8[0][0]      \n",
      "                                                                 max_pooling1d[0][0]              \n",
      "__________________________________________________________________________________________________\n",
      "activation_8 (Activation)       (None, 300, 32)      0           add_3[0][0]                      \n",
      "__________________________________________________________________________________________________\n",
      "conv1d_9 (Conv1D)               (None, 300, 32)      5152        activation_8[0][0]               \n",
      "__________________________________________________________________________________________________\n",
      "batch_normalization_9 (BatchNor (None, 300, 32)      128         conv1d_9[0][0]                   \n",
      "__________________________________________________________________________________________________\n",
      "activation_9 (Activation)       (None, 300, 32)      0           batch_normalization_9[0][0]      \n",
      "__________________________________________________________________________________________________\n",
      "conv1d_10 (Conv1D)              (None, 300, 32)      5152        activation_9[0][0]               \n",
      "__________________________________________________________________________________________________\n",
      "batch_normalization_10 (BatchNo (None, 300, 32)      128         conv1d_10[0][0]                  \n",
      "__________________________________________________________________________________________________\n",
      "add_4 (Add)                     (None, 300, 32)      0           batch_normalization_10[0][0]     \n",
      "                                                                 activation_8[0][0]               \n",
      "__________________________________________________________________________________________________\n",
      "activation_10 (Activation)      (None, 300, 32)      0           add_4[0][0]                      \n",
      "__________________________________________________________________________________________________\n",
      "conv1d_11 (Conv1D)              (None, 300, 32)      5152        activation_10[0][0]              \n",
      "__________________________________________________________________________________________________\n",
      "batch_normalization_11 (BatchNo (None, 300, 32)      128         conv1d_11[0][0]                  \n",
      "__________________________________________________________________________________________________\n",
      "activation_11 (Activation)      (None, 300, 32)      0           batch_normalization_11[0][0]     \n",
      "__________________________________________________________________________________________________\n",
      "conv1d_12 (Conv1D)              (None, 300, 32)      5152        activation_11[0][0]              \n",
      "__________________________________________________________________________________________________\n",
      "batch_normalization_12 (BatchNo (None, 300, 32)      128         conv1d_12[0][0]                  \n",
      "__________________________________________________________________________________________________\n",
      "add_5 (Add)                     (None, 300, 32)      0           batch_normalization_12[0][0]     \n",
      "                                                                 activation_10[0][0]              \n",
      "__________________________________________________________________________________________________\n",
      "activation_12 (Activation)      (None, 300, 32)      0           add_5[0][0]                      \n",
      "__________________________________________________________________________________________________\n",
      "max_pooling1d_1 (MaxPooling1D)  (None, 150, 32)      0           activation_12[0][0]              \n",
      "__________________________________________________________________________________________________\n",
      "conv1d_13 (Conv1D)              (None, 150, 32)      5152        max_pooling1d_1[0][0]            \n",
      "__________________________________________________________________________________________________\n",
      "batch_normalization_13 (BatchNo (None, 150, 32)      128         conv1d_13[0][0]                  \n",
      "__________________________________________________________________________________________________\n",
      "activation_13 (Activation)      (None, 150, 32)      0           batch_normalization_13[0][0]     \n",
      "__________________________________________________________________________________________________\n",
      "conv1d_14 (Conv1D)              (None, 150, 32)      5152        activation_13[0][0]              \n",
      "__________________________________________________________________________________________________\n",
      "batch_normalization_14 (BatchNo (None, 150, 32)      128         conv1d_14[0][0]                  \n",
      "__________________________________________________________________________________________________\n",
      "add_6 (Add)                     (None, 150, 32)      0           batch_normalization_14[0][0]     \n",
      "                                                                 max_pooling1d_1[0][0]            \n",
      "__________________________________________________________________________________________________\n",
      "activation_14 (Activation)      (None, 150, 32)      0           add_6[0][0]                      \n",
      "__________________________________________________________________________________________________\n",
      "conv1d_15 (Conv1D)              (None, 150, 32)      5152        activation_14[0][0]              \n",
      "__________________________________________________________________________________________________\n",
      "batch_normalization_15 (BatchNo (None, 150, 32)      128         conv1d_15[0][0]                  \n",
      "__________________________________________________________________________________________________\n",
      "activation_15 (Activation)      (None, 150, 32)      0           batch_normalization_15[0][0]     \n",
      "__________________________________________________________________________________________________\n",
      "conv1d_16 (Conv1D)              (None, 150, 32)      5152        activation_15[0][0]              \n",
      "__________________________________________________________________________________________________\n",
      "batch_normalization_16 (BatchNo (None, 150, 32)      128         conv1d_16[0][0]                  \n",
      "__________________________________________________________________________________________________\n",
      "add_7 (Add)                     (None, 150, 32)      0           batch_normalization_16[0][0]     \n",
      "                                                                 activation_14[0][0]              \n",
      "__________________________________________________________________________________________________\n",
      "activation_16 (Activation)      (None, 150, 32)      0           add_7[0][0]                      \n",
      "__________________________________________________________________________________________________\n",
      "conv1d_17 (Conv1D)              (None, 150, 32)      5152        activation_16[0][0]              \n",
      "__________________________________________________________________________________________________\n",
      "batch_normalization_17 (BatchNo (None, 150, 32)      128         conv1d_17[0][0]                  \n",
      "__________________________________________________________________________________________________\n",
      "activation_17 (Activation)      (None, 150, 32)      0           batch_normalization_17[0][0]     \n",
      "__________________________________________________________________________________________________\n",
      "conv1d_18 (Conv1D)              (None, 150, 32)      5152        activation_17[0][0]              \n",
      "__________________________________________________________________________________________________\n",
      "batch_normalization_18 (BatchNo (None, 150, 32)      128         conv1d_18[0][0]                  \n",
      "__________________________________________________________________________________________________\n",
      "add_8 (Add)                     (None, 150, 32)      0           batch_normalization_18[0][0]     \n",
      "                                                                 activation_16[0][0]              \n",
      "__________________________________________________________________________________________________\n",
      "activation_18 (Activation)      (None, 150, 32)      0           add_8[0][0]                      \n",
      "__________________________________________________________________________________________________\n",
      "max_pooling1d_2 (MaxPooling1D)  (None, 75, 32)       0           activation_18[0][0]              \n",
      "__________________________________________________________________________________________________\n",
      "flatten (Flatten)               (None, 2400)         0           max_pooling1d_2[0][0]            \n",
      "__________________________________________________________________________________________________\n",
      "latent_layer (Dense)            (None, 100)          240100      flatten[0][0]                    \n",
      "==================================================================================================\n",
      "Total params: 335,972\n",
      "Trainable params: 334,756\n",
      "Non-trainable params: 1,216\n",
      "__________________________________________________________________________________________________\n"
     ]
    }
   ],
   "source": [
    "encoder_input = autoencoder.get_layer('encoder_input')\n",
    "encoder = autoencoder.get_layer('encoder')\n",
    "encoder.summary()"
   ]
  },
  {
   "cell_type": "markdown",
   "id": "2e2cb9e1",
   "metadata": {
    "id": "2e2cb9e1"
   },
   "source": [
    "### Data pre-processing for Barlow-twins input\n",
    "1. Strat from the grouped waveforms\n",
    "2. Pair up each of the waveforms"
   ]
  },
  {
   "cell_type": "code",
   "execution_count": 23,
   "id": "1e0141cf",
   "metadata": {
    "id": "1e0141cf"
   },
   "outputs": [],
   "source": [
    "train_set_bt = train_set.copy()"
   ]
  },
  {
   "cell_type": "code",
   "execution_count": 24,
   "id": "8ab5ed60",
   "metadata": {
    "id": "8ab5ed60"
   },
   "outputs": [],
   "source": [
    "import itertools\n",
    "def pair_up_waveform(waves):\n",
    "    \n",
    "    # ---- count number of entries\n",
    "    num_entries = waves.shape[0]\n",
    "    \n",
    "    # ---- create pair of two\n",
    "    pair_index = list(set(itertools.combinations(np.arange(num_entries),2)))\n",
    "    pair_index = np.asarray(pair_index).T\n",
    "    \n",
    "    return pair_index"
   ]
  },
  {
   "cell_type": "code",
   "execution_count": 25,
   "id": "21224237",
   "metadata": {
    "colab": {
     "base_uri": "https://localhost:8080/"
    },
    "id": "21224237",
    "outputId": "8e1394ac-e1a7-4a09-ba74-5b67b1033287"
   },
   "outputs": [
    {
     "name": "stdout",
     "output_type": "stream",
     "text": [
      "total number of pairs: 10061755\n",
      "total number of events: 1034\n"
     ]
    }
   ],
   "source": [
    "# ----- create indexes of pair of two\n",
    "train_set_bt[\"pair_index\"] = train_set[\"P_wave_processed\"].apply(lambda x: pair_up_waveform(x))\n",
    "train_set_bt[\"num_pairs\"] = train_set[\"num_waves\"].apply(lambda x: int(comb(x,2)))\n",
    "\n",
    "num_of_pairs = train_set_bt.num_pairs.sum()\n",
    "print(f\"total number of pairs: {num_of_pairs}\")\n",
    "num_of_events = len(train_set_bt)\n",
    "print(f\"total number of events: {num_of_events}\")"
   ]
  },
  {
   "cell_type": "code",
   "execution_count": 27,
   "id": "92c9a91e",
   "metadata": {
    "id": "92c9a91e"
   },
   "outputs": [],
   "source": [
    "# ----- now we can populate waveform pairs to numpy arrays\n",
    "# set a max number of pair per event, if memory is an issue\n",
    "max_num_pair = 200\n",
    "total_pairs = num_of_events * max_num_pair\n",
    "\n",
    "waves_one = np.zeros((total_pairs, 600, 3))\n",
    "waves_two = np.zeros((total_pairs, 600, 3))\n",
    "\n",
    "counter = 0\n",
    "for i in range(len(train_set_bt)):\n",
    "    \n",
    "    indexes_for_waves_one = train_set_bt.iloc[i].pair_index[0]\n",
    "    indexes_for_waves_two = train_set_bt.iloc[i].pair_index[1]\n",
    "    \n",
    "    if len(indexes_for_waves_one) > max_num_pair:\n",
    "        indexes_for_waves_one = indexes_for_waves_one[0:max_num_pair]\n",
    "        indexes_for_waves_two = indexes_for_waves_one[0:max_num_pair]\n",
    "    \n",
    "    num_of_combs = len(indexes_for_waves_one) + counter\n",
    "    \n",
    "    # ---- get waves and put into the pre-instatiiated np arrays\n",
    "    waves_one[counter:num_of_combs,:,:] = train_set_bt.iloc[i][\"P_wave_processed\"][indexes_for_waves_one,:,:]\n",
    "    waves_two[counter:num_of_combs,:,:] = train_set_bt.iloc[i][\"P_wave_processed\"][indexes_for_waves_two,:,:]\n",
    "    \n",
    "    counter = num_of_combs\n",
    "    \n",
    "waves_one = waves_one[:counter,:,:]\n",
    "waves_two = waves_one[:counter,:,:]"
   ]
  },
  {
   "cell_type": "markdown",
   "id": "031ca3ce",
   "metadata": {
    "id": "031ca3ce"
   },
   "source": [
    "### Barlow-twins part starts here"
   ]
  },
  {
   "cell_type": "markdown",
   "id": "c70565a7",
   "metadata": {
    "id": "c70565a7"
   },
   "source": [
    "Inputs:\n",
    "1. encoder : pre-trained encoder model + a projector\n",
    "2. waves_one : wave copy one\n",
    "3. waves_two : wave copy two"
   ]
  },
  {
   "cell_type": "code",
   "execution_count": 29,
   "id": "df496a7e",
   "metadata": {
    "id": "df496a7e"
   },
   "outputs": [],
   "source": [
    "def off_diagonal(x):\n",
    "    n = tf.shape(x)[0]\n",
    "    flattened = tf.reshape(x, [-1])[:-1]\n",
    "    off_diagonals = tf.reshape(flattened, (n-1, n+1))[:, 1:]\n",
    "    return tf.reshape(off_diagonals, [-1])\n",
    "\n",
    "\n",
    "def normalize_repr(z):\n",
    "    z_norm = (z - tf.reduce_mean(z, axis=0)) / tf.math.reduce_std(z, axis=0)\n",
    "    return z_norm\n",
    "\n",
    "\n",
    "def compute_loss(z_a, z_b, lambd):\n",
    "    # Get batch size and representation dimension.\n",
    "    batch_size = tf.cast(tf.shape(z_a)[0], z_a.dtype)\n",
    "    repr_dim = tf.shape(z_a)[1]\n",
    "\n",
    "    # Normalize the representations along the batch dimension.\n",
    "    z_a_norm = normalize_repr(z_a)\n",
    "    z_b_norm = normalize_repr(z_b)\n",
    "\n",
    "    # Cross-correlation matrix.\n",
    "    c = tf.matmul(z_a_norm, z_b_norm, transpose_a=True) / batch_size\n",
    "\n",
    "    # Loss.\n",
    "    on_diag = tf.linalg.diag_part(c) + (-1)\n",
    "    on_diag = tf.reduce_sum(tf.pow(on_diag, 2))\n",
    "    off_diag = off_diagonal(c)\n",
    "    off_diag = tf.reduce_sum(tf.pow(off_diag, 2))\n",
    "    loss = on_diag + (lambd * off_diag)\n",
    "    return loss"
   ]
  },
  {
   "cell_type": "code",
   "execution_count": 35,
   "id": "71a0a3fd",
   "metadata": {
    "id": "71a0a3fd"
   },
   "outputs": [],
   "source": [
    "class BarlowTwins(tf.keras.Model):\n",
    "    def __init__(self, encoder, lambd=5e-3):\n",
    "        super(BarlowTwins, self).__init__()\n",
    "        self.encoder = encoder\n",
    "        self.lambd = lambd\n",
    "        self.loss_tracker = tf.keras.metrics.Mean(name=\"loss\")\n",
    "\n",
    "    @property\n",
    "    def metrics(self):\n",
    "        return [self.loss_tracker]\n",
    "\n",
    "    def train_step(self, data):\n",
    "        # Unpack the data.\n",
    "        ds_one, ds_two = data\n",
    "\n",
    "        # Forward pass through the encoder and predictor.\n",
    "        with tf.GradientTape() as tape:\n",
    "            z_a, z_b = self.encoder(ds_one, training=True), self.encoder(ds_two, training=True)\n",
    "            loss = compute_loss(z_a, z_b, self.lambd) \n",
    "\n",
    "        # Compute gradients and update the parameters.\n",
    "        gradients = tape.gradient(loss, self.encoder.trainable_variables)\n",
    "        self.optimizer.apply_gradients(zip(gradients, self.encoder.trainable_variables))\n",
    "\n",
    "        # Monitor loss.\n",
    "        self.loss_tracker.update_state(loss)\n",
    "        return {\"loss\": self.loss_tracker.result()}"
   ]
  },
  {
   "cell_type": "code",
   "execution_count": 36,
   "id": "3c86b98f",
   "metadata": {
    "colab": {
     "base_uri": "https://localhost:8080/",
     "height": 243
    },
    "id": "3c86b98f",
    "outputId": "de24c654-72f0-4d11-daae-7944cf437405"
   },
   "outputs": [],
   "source": [
    "BATCH_SIZE = 32\n",
    "EPOCHS = 100\n",
    "STEPS_PER_EPOCH = waves_one.shape[0] // BATCH_SIZE\n",
    "TOTAL_STEPS = STEPS_PER_EPOCH * EPOCHS\n",
    "WARMUP_EPOCHS = int(EPOCHS * 0.1)\n",
    "WARMUP_STEPS = int(WARMUP_EPOCHS * STEPS_PER_EPOCH)\n",
    "\n",
    "lr_decayed_fn = lr_scheduler.WarmUpCosine(\n",
    "    learning_rate_base=1e-3,\n",
    "    total_steps=EPOCHS * STEPS_PER_EPOCH,\n",
    "    warmup_learning_rate=0.0,\n",
    "    warmup_steps=WARMUP_STEPS\n",
    ")"
   ]
  },
  {
   "cell_type": "code",
   "execution_count": 37,
   "id": "0196067e",
   "metadata": {
    "id": "0196067e"
   },
   "outputs": [],
   "source": [
    "optimizer = tf.keras.optimizers.SGD(learning_rate=lr_decayed_fn, momentum=0.9)"
   ]
  },
  {
   "cell_type": "code",
   "execution_count": 38,
   "id": "s-tiOYyoq8l0",
   "metadata": {
    "id": "s-tiOYyoq8l0"
   },
   "outputs": [],
   "source": [
    "ssl_ds_one = tf.data.Dataset.from_tensor_slices(waves_one)\n",
    "ssl_ds_two = tf.data.Dataset.from_tensor_slices(waves_two)\n",
    "\n",
    "SEED = 0\n",
    "\n",
    "ssl_ds_one = (\n",
    "    ssl_ds_one.shuffle(1024, seed=SEED)\n",
    "    .batch(BATCH_SIZE)\n",
    "    .prefetch(tf.data.AUTOTUNE)\n",
    ")\n",
    "\n",
    "ssl_ds_two = (\n",
    "    ssl_ds_two.shuffle(1024, seed=SEED)\n",
    "    .batch(BATCH_SIZE)\n",
    "    .prefetch(tf.data.AUTOTUNE)\n",
    ")\n",
    "\n",
    "# We then zip both of these datasets.\n",
    "ssl_ds = tf.data.Dataset.zip((ssl_ds_one, ssl_ds_two))"
   ]
  },
  {
   "cell_type": "code",
   "execution_count": 39,
   "id": "e948d9c0",
   "metadata": {
    "colab": {
     "base_uri": "https://localhost:8080/",
     "height": 225
    },
    "id": "e948d9c0",
    "outputId": "500743dc-42bb-41fa-d6d1-e3beeff76b5e"
   },
   "outputs": [
    {
     "name": "stdout",
     "output_type": "stream",
     "text": [
      "Epoch 1/100\n",
      "6399/6399 [==============================] - 133s 20ms/step - loss: 1.8748\n",
      "Epoch 2/100\n",
      "6399/6399 [==============================] - 127s 20ms/step - loss: 1.7694\n",
      "Epoch 3/100\n",
      "6399/6399 [==============================] - 127s 20ms/step - loss: 1.7118\n",
      "Epoch 4/100\n",
      "6399/6399 [==============================] - 127s 20ms/step - loss: 1.6864\n",
      "Epoch 5/100\n",
      "6399/6399 [==============================] - 127s 20ms/step - loss: 1.6806\n",
      "Epoch 6/100\n",
      "6399/6399 [==============================] - 127s 20ms/step - loss: 1.6741\n",
      "Epoch 7/100\n",
      "6399/6399 [==============================] - 127s 20ms/step - loss: 1.6700\n",
      "Epoch 8/100\n",
      "6399/6399 [==============================] - 127s 20ms/step - loss: 1.6677\n",
      "Epoch 9/100\n",
      "6399/6399 [==============================] - 127s 20ms/step - loss: 1.6619\n",
      "Epoch 10/100\n",
      "6399/6399 [==============================] - 127s 20ms/step - loss: 1.6602\n",
      "Epoch 11/100\n",
      "6399/6399 [==============================] - 127s 20ms/step - loss: 1.6594\n",
      "Epoch 12/100\n",
      "6399/6399 [==============================] - 127s 20ms/step - loss: 1.6558\n",
      "Epoch 13/100\n",
      "6399/6399 [==============================] - 127s 20ms/step - loss: 1.6556\n",
      "Epoch 14/100\n",
      "6399/6399 [==============================] - 127s 20ms/step - loss: 1.6562\n",
      "Epoch 15/100\n",
      "6399/6399 [==============================] - 127s 20ms/step - loss: 1.6522\n",
      "Epoch 16/100\n",
      "6399/6399 [==============================] - 127s 20ms/step - loss: 1.6516\n",
      "Epoch 17/100\n",
      "6399/6399 [==============================] - 127s 20ms/step - loss: 1.6493\n",
      "Epoch 18/100\n",
      "6399/6399 [==============================] - 127s 20ms/step - loss: 1.6528\n",
      "Epoch 19/100\n",
      "6399/6399 [==============================] - 127s 20ms/step - loss: 1.6482\n",
      "Epoch 20/100\n",
      "6399/6399 [==============================] - 127s 20ms/step - loss: 1.6496\n",
      "Epoch 21/100\n",
      "6399/6399 [==============================] - 127s 20ms/step - loss: 1.6486\n",
      "Epoch 22/100\n",
      "6399/6399 [==============================] - 127s 20ms/step - loss: 1.6481\n",
      "Epoch 23/100\n",
      "6399/6399 [==============================] - 127s 20ms/step - loss: 1.6468\n",
      "Epoch 24/100\n",
      "6399/6399 [==============================] - 127s 20ms/step - loss: 1.6479\n",
      "Epoch 25/100\n",
      "6399/6399 [==============================] - 127s 20ms/step - loss: 1.6453\n",
      "Epoch 26/100\n",
      "6399/6399 [==============================] - 127s 20ms/step - loss: 1.6462\n",
      "Epoch 27/100\n",
      "6399/6399 [==============================] - 127s 20ms/step - loss: 1.6471\n",
      "Epoch 28/100\n",
      "6399/6399 [==============================] - 127s 20ms/step - loss: 1.6463\n",
      "Epoch 29/100\n",
      "6399/6399 [==============================] - 127s 20ms/step - loss: 1.6464\n",
      "Epoch 30/100\n",
      "6399/6399 [==============================] - 127s 20ms/step - loss: 1.6468\n",
      "Epoch 31/100\n",
      "6399/6399 [==============================] - 128s 20ms/step - loss: 1.6458\n",
      "Epoch 32/100\n",
      "6399/6399 [==============================] - 127s 20ms/step - loss: 1.6442\n",
      "Epoch 33/100\n",
      "6399/6399 [==============================] - 127s 20ms/step - loss: 1.6454\n",
      "Epoch 34/100\n",
      "6399/6399 [==============================] - 127s 20ms/step - loss: 1.6439\n",
      "Epoch 35/100\n",
      "6399/6399 [==============================] - 127s 20ms/step - loss: 1.6452\n",
      "Epoch 36/100\n",
      "6399/6399 [==============================] - 127s 20ms/step - loss: 1.6421\n",
      "Epoch 37/100\n",
      "6399/6399 [==============================] - 127s 20ms/step - loss: 1.6433\n",
      "Epoch 38/100\n",
      "6399/6399 [==============================] - 127s 20ms/step - loss: 1.6419\n",
      "Epoch 39/100\n",
      "6399/6399 [==============================] - 127s 20ms/step - loss: 1.6416\n",
      "Epoch 40/100\n",
      "6399/6399 [==============================] - 128s 20ms/step - loss: 1.6427\n",
      "Epoch 41/100\n",
      "6399/6399 [==============================] - 127s 20ms/step - loss: 1.6441\n",
      "Epoch 42/100\n",
      "6399/6399 [==============================] - 127s 20ms/step - loss: 1.6405\n",
      "Epoch 43/100\n",
      "6399/6399 [==============================] - 127s 20ms/step - loss: 1.6422\n",
      "Epoch 44/100\n",
      "6399/6399 [==============================] - 127s 20ms/step - loss: 1.6420\n",
      "Epoch 45/100\n",
      "6399/6399 [==============================] - 127s 20ms/step - loss: 1.6415\n",
      "Epoch 46/100\n",
      "6399/6399 [==============================] - 127s 20ms/step - loss: 1.6414\n",
      "Epoch 47/100\n",
      "6399/6399 [==============================] - 127s 20ms/step - loss: 1.6411\n",
      "Epoch 48/100\n",
      "6399/6399 [==============================] - 127s 20ms/step - loss: 1.6396\n",
      "Epoch 49/100\n",
      "6399/6399 [==============================] - 127s 20ms/step - loss: 1.6419\n",
      "Epoch 50/100\n",
      "6399/6399 [==============================] - 127s 20ms/step - loss: 1.6415\n",
      "Epoch 51/100\n",
      "6399/6399 [==============================] - 127s 20ms/step - loss: 1.6414\n",
      "Epoch 52/100\n",
      "6399/6399 [==============================] - 127s 20ms/step - loss: 1.6398\n",
      "Epoch 53/100\n",
      "6399/6399 [==============================] - 127s 20ms/step - loss: 1.6396\n",
      "Epoch 54/100\n",
      "6399/6399 [==============================] - 127s 20ms/step - loss: 1.6391\n",
      "Epoch 55/100\n",
      "6399/6399 [==============================] - 127s 20ms/step - loss: 1.6387\n",
      "Epoch 56/100\n",
      "6399/6399 [==============================] - 127s 20ms/step - loss: 1.6387\n",
      "Epoch 57/100\n",
      "6399/6399 [==============================] - 127s 20ms/step - loss: 1.6392\n",
      "Epoch 58/100\n",
      "6399/6399 [==============================] - 127s 20ms/step - loss: 1.6411\n",
      "Epoch 59/100\n",
      "6399/6399 [==============================] - 127s 20ms/step - loss: 1.6395\n",
      "Epoch 60/100\n",
      "6399/6399 [==============================] - 127s 20ms/step - loss: 1.6409\n",
      "Epoch 61/100\n",
      "6399/6399 [==============================] - 127s 20ms/step - loss: 1.6379\n",
      "Epoch 62/100\n",
      "6399/6399 [==============================] - 127s 20ms/step - loss: 1.6380\n",
      "Epoch 63/100\n",
      "6399/6399 [==============================] - 127s 20ms/step - loss: 1.6404\n",
      "Epoch 64/100\n",
      "6399/6399 [==============================] - 127s 20ms/step - loss: 1.6385\n",
      "Epoch 65/100\n",
      "6399/6399 [==============================] - 127s 20ms/step - loss: 1.6404\n",
      "Epoch 66/100\n",
      "6399/6399 [==============================] - 127s 20ms/step - loss: 1.6385\n",
      "Epoch 67/100\n",
      "6399/6399 [==============================] - 127s 20ms/step - loss: 1.6389\n",
      "Epoch 68/100\n",
      "6399/6399 [==============================] - 127s 20ms/step - loss: 1.6387\n",
      "Epoch 69/100\n",
      "6399/6399 [==============================] - 127s 20ms/step - loss: 1.6369\n",
      "Epoch 70/100\n",
      "6399/6399 [==============================] - 127s 20ms/step - loss: 1.6384\n",
      "Epoch 71/100\n",
      "6399/6399 [==============================] - 127s 20ms/step - loss: 1.6361\n",
      "Epoch 72/100\n",
      "6399/6399 [==============================] - 127s 20ms/step - loss: 1.6372\n",
      "Epoch 73/100\n",
      "6399/6399 [==============================] - 127s 20ms/step - loss: 1.6381\n",
      "Epoch 74/100\n",
      "6399/6399 [==============================] - 127s 20ms/step - loss: 1.6380\n",
      "Epoch 75/100\n",
      "6399/6399 [==============================] - 127s 20ms/step - loss: 1.6358\n",
      "Epoch 76/100\n",
      "6399/6399 [==============================] - 127s 20ms/step - loss: 1.6372\n",
      "Epoch 77/100\n",
      "6399/6399 [==============================] - 127s 20ms/step - loss: 1.6362\n",
      "Epoch 78/100\n",
      "6399/6399 [==============================] - 127s 20ms/step - loss: 1.6389\n",
      "Epoch 79/100\n",
      "6399/6399 [==============================] - 127s 20ms/step - loss: 1.6369\n",
      "Epoch 80/100\n",
      "6399/6399 [==============================] - 127s 20ms/step - loss: 1.6380\n",
      "Epoch 81/100\n",
      "6399/6399 [==============================] - 127s 20ms/step - loss: 1.6363\n",
      "Epoch 82/100\n",
      "6399/6399 [==============================] - 127s 20ms/step - loss: 1.6367\n",
      "Epoch 83/100\n",
      "6399/6399 [==============================] - 127s 20ms/step - loss: 1.6373\n",
      "Epoch 84/100\n",
      "6399/6399 [==============================] - 127s 20ms/step - loss: 1.6353\n",
      "Epoch 85/100\n",
      "6399/6399 [==============================] - 127s 20ms/step - loss: 1.6356\n",
      "Epoch 86/100\n",
      "6399/6399 [==============================] - 127s 20ms/step - loss: 1.6374\n",
      "Epoch 87/100\n",
      "6399/6399 [==============================] - 127s 20ms/step - loss: 1.6363\n",
      "Epoch 88/100\n",
      "6399/6399 [==============================] - 127s 20ms/step - loss: 1.6370\n",
      "Epoch 89/100\n",
      "6399/6399 [==============================] - 127s 20ms/step - loss: 1.6371\n",
      "Epoch 90/100\n",
      "6399/6399 [==============================] - 127s 20ms/step - loss: 1.6370\n",
      "Epoch 91/100\n",
      "6399/6399 [==============================] - 127s 20ms/step - loss: 1.6372\n",
      "Epoch 92/100\n",
      "6399/6399 [==============================] - 127s 20ms/step - loss: 1.6365\n",
      "Epoch 93/100\n",
      "6399/6399 [==============================] - 127s 20ms/step - loss: 1.6362\n",
      "Epoch 94/100\n",
      "6399/6399 [==============================] - 127s 20ms/step - loss: 1.6376\n",
      "Epoch 95/100\n",
      "6399/6399 [==============================] - 127s 20ms/step - loss: 1.6366\n",
      "Epoch 96/100\n",
      "6399/6399 [==============================] - 127s 20ms/step - loss: 1.6373\n",
      "Epoch 97/100\n",
      "6399/6399 [==============================] - 127s 20ms/step - loss: 1.6355\n",
      "Epoch 98/100\n",
      "6399/6399 [==============================] - 127s 20ms/step - loss: 1.6368\n",
      "Epoch 99/100\n",
      "6399/6399 [==============================] - 127s 20ms/step - loss: 1.6374\n",
      "Epoch 100/100\n",
      "6399/6399 [==============================] - 127s 20ms/step - loss: 1.6379\n"
     ]
    }
   ],
   "source": [
    "barlow_twins = BarlowTwins(encoder)\n",
    "barlow_twins.compile(optimizer=optimizer)\n",
    "#tensorboard_callback, cp_callback = return_tbcallbacks(model_name='barlow_twins')\n",
    "#callbacks=[cp_callback] tensorboard_callback\n",
    "history = barlow_twins.fit(ssl_ds, epochs=EPOCHS)"
   ]
  },
  {
   "cell_type": "code",
   "execution_count": 75,
   "id": "3600c326",
   "metadata": {
    "id": "3600c326"
   },
   "outputs": [
    {
     "data": {
      "image/png": "[encoded data removed]",
      "text/plain": [
       "<Figure size 432x288 with 1 Axes>"
      ]
     },
     "metadata": {
      "needs_background": "light"
     },
     "output_type": "display_data"
    }
   ],
   "source": [
    "import matplotlib.pyplot as plt\n",
    "start = 1\n",
    "plt.plot(history.history['loss'][start:], label='train')\n",
    "plt.legend()\n",
    "plt.xlabel('epoch')\n",
    "plt.ylabel('loss, ccc')\n",
    "plt.title('Barlow-twins training loss')\n",
    "plt.show()"
   ]
  },
  {
   "cell_type": "code",
   "execution_count": 41,
   "id": "89a88075",
   "metadata": {},
   "outputs": [
    {
     "name": "stderr",
     "output_type": "stream",
     "text": [
      "/home/lchuang/anaconda3/envs/Nukes_LC/lib/python3.7/site-packages/keras/utils/generic_utils.py:497: CustomMaskWarning: Custom mask layers require a config and must override get_config. When loading, the custom mask layer must be passed to the custom_objects argument.\n",
      "  category=CustomMaskWarning)\n"
     ]
    }
   ],
   "source": [
    "barlow_twins.encoder.save('./bt_model/bt_model.h5',save_format='h5')"
   ]
  },
  {
   "cell_type": "markdown",
   "id": "f1700761",
   "metadata": {},
   "source": [
    "### Make predictions for test set"
   ]
  },
  {
   "cell_type": "code",
   "execution_count": 57,
   "id": "30e0a17c",
   "metadata": {},
   "outputs": [],
   "source": [
    "test_set_bt = test_set.copy()"
   ]
  },
  {
   "cell_type": "code",
   "execution_count": 63,
   "id": "3db99ead",
   "metadata": {},
   "outputs": [],
   "source": [
    "test_set_flat = test_set_bt.set_index('event_id').explode(['station_name',\n",
    "                                           'station_network',\n",
    "                                           'station_lat',\n",
    "                                           'station_long',\n",
    "                                           'P_wave_processed']).reset_index()"
   ]
  },
  {
   "cell_type": "code",
   "execution_count": 67,
   "id": "78d00592",
   "metadata": {},
   "outputs": [],
   "source": [
    "wave_test = np.asarray(test_set_flat.P_wave_processed.to_list())"
   ]
  },
  {
   "cell_type": "code",
   "execution_count": 68,
   "id": "b158c88c",
   "metadata": {},
   "outputs": [],
   "source": [
    "pred_embedn = barlow_twins.encoder.predict(wave_test)"
   ]
  },
  {
   "cell_type": "code",
   "execution_count": 69,
   "id": "8979318f",
   "metadata": {},
   "outputs": [
    {
     "data": {
      "text/plain": [
       "(27983, 100)"
      ]
     },
     "execution_count": 69,
     "metadata": {},
     "output_type": "execute_result"
    }
   ],
   "source": [
    "pred_embedn.shape"
   ]
  },
  {
   "cell_type": "code",
   "execution_count": 70,
   "id": "45f24c6e",
   "metadata": {},
   "outputs": [
    {
     "data": {
      "text/html": [
       "<div>\n",
       "<style scoped>\n",
       "    .dataframe tbody tr th:only-of-type {\n",
       "        vertical-align: middle;\n",
       "    }\n",
       "\n",
       "    .dataframe tbody tr th {\n",
       "        vertical-align: top;\n",
       "    }\n",
       "\n",
       "    .dataframe thead th {\n",
       "        text-align: right;\n",
       "    }\n",
       "</style>\n",
       "<table border=\"1\" class=\"dataframe\">\n",
       "  <thead>\n",
       "    <tr style=\"text-align: right;\">\n",
       "      <th></th>\n",
       "      <th>event_id</th>\n",
       "      <th>station_name</th>\n",
       "      <th>station_network</th>\n",
       "      <th>station_lat</th>\n",
       "      <th>station_long</th>\n",
       "      <th>P_wave_processed</th>\n",
       "      <th>num_waves</th>\n",
       "      <th>pred_embeddings</th>\n",
       "    </tr>\n",
       "  </thead>\n",
       "  <tbody>\n",
       "    <tr>\n",
       "      <th>0</th>\n",
       "      <td>7223887</td>\n",
       "      <td>AAK</td>\n",
       "      <td>KN</td>\n",
       "      <td>42.633301</td>\n",
       "      <td>74.4944</td>\n",
       "      <td>[[-0.0054397800811531, 0.006146642442558737, 0...</td>\n",
       "      <td>25</td>\n",
       "      <td>[2.0686686, -1.1539124, -2.2467422, 5.966675, ...</td>\n",
       "    </tr>\n",
       "    <tr>\n",
       "      <th>1</th>\n",
       "      <td>7223887</td>\n",
       "      <td>AML</td>\n",
       "      <td>KN</td>\n",
       "      <td>42.1311</td>\n",
       "      <td>73.694099</td>\n",
       "      <td>[[-0.0017225705661397274, 0.001742278627199010...</td>\n",
       "      <td>25</td>\n",
       "      <td>[2.8171532, -2.6339478, -1.8851807, 2.0183, 1....</td>\n",
       "    </tr>\n",
       "  </tbody>\n",
       "</table>\n",
       "</div>"
      ],
      "text/plain": [
       "   event_id station_name station_network station_lat station_long  \\\n",
       "0   7223887          AAK              KN   42.633301      74.4944   \n",
       "1   7223887          AML              KN     42.1311    73.694099   \n",
       "\n",
       "                                    P_wave_processed  num_waves  \\\n",
       "0  [[-0.0054397800811531, 0.006146642442558737, 0...         25   \n",
       "1  [[-0.0017225705661397274, 0.001742278627199010...         25   \n",
       "\n",
       "                                     pred_embeddings  \n",
       "0  [2.0686686, -1.1539124, -2.2467422, 5.966675, ...  \n",
       "1  [2.8171532, -2.6339478, -1.8851807, 2.0183, 1....  "
      ]
     },
     "execution_count": 70,
     "metadata": {},
     "output_type": "execute_result"
    }
   ],
   "source": [
    "test_set_flat[\"pred_embeddings\"] = list(pred_embedn)\n",
    "test_set_flat.head(2)"
   ]
  },
  {
   "cell_type": "code",
   "execution_count": 71,
   "id": "8f8d4889",
   "metadata": {},
   "outputs": [],
   "source": [
    "test_set_flat.to_pickle('pred_embeddings_test.pickle')"
   ]
  }
 ],
 "metadata": {
  "colab": {
   "name": "Barlow-twins.ipynb",
   "provenance": []
  },
  "kernelspec": {
   "display_name": "Python 3 (ipykernel)",
   "language": "python",
   "name": "python3"
  },
  "language_info": {
   "codemirror_mode": {
    "name": "ipython",
    "version": 3
   },
   "file_extension": ".py",
   "mimetype": "text/x-python",
   "name": "python",
   "nbconvert_exporter": "python",
   "pygments_lexer": "ipython3",
   "version": "3.7.10"
  }
 },
 "nbformat": 4,
 "nbformat_minor": 5
}
